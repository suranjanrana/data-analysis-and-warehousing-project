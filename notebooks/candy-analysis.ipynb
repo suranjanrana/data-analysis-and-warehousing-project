{
 "cells": [
  {
   "cell_type": "code",
   "execution_count": 99,
   "id": "230f9e6d",
   "metadata": {},
   "outputs": [],
   "source": [
    "import numpy as np\n",
    "import pandas as pd\n",
    "\n",
    "import matplotlib.pyplot as plt\n",
    "\n",
    "pd.set_option(\"display.max_columns\", 500)\n",
    "pd.set_option(\"display.max_rows\", 500)"
   ]
  },
  {
   "cell_type": "markdown",
   "id": "e7ffa5bc",
   "metadata": {},
   "source": [
    "# US Candy Sales"
   ]
  },
  {
   "cell_type": "code",
   "execution_count": 100,
   "id": "7d4d94eb",
   "metadata": {},
   "outputs": [
    {
     "data": {
      "application/vnd.microsoft.datawrangler.viewer.v0+json": {
       "columns": [
        {
         "name": "index",
         "rawType": "int64",
         "type": "integer"
        },
        {
         "name": "Row ID",
         "rawType": "int64",
         "type": "integer"
        },
        {
         "name": "Order ID",
         "rawType": "object",
         "type": "string"
        },
        {
         "name": "Order Date",
         "rawType": "object",
         "type": "string"
        },
        {
         "name": "Ship Date",
         "rawType": "object",
         "type": "string"
        },
        {
         "name": "Ship Mode",
         "rawType": "object",
         "type": "string"
        },
        {
         "name": "Customer ID",
         "rawType": "int64",
         "type": "integer"
        },
        {
         "name": "Country/Region",
         "rawType": "object",
         "type": "string"
        },
        {
         "name": "City",
         "rawType": "object",
         "type": "string"
        },
        {
         "name": "State/Province",
         "rawType": "object",
         "type": "string"
        },
        {
         "name": "Postal Code",
         "rawType": "object",
         "type": "string"
        },
        {
         "name": "Division",
         "rawType": "object",
         "type": "string"
        },
        {
         "name": "Region",
         "rawType": "object",
         "type": "string"
        },
        {
         "name": "Product ID",
         "rawType": "object",
         "type": "string"
        },
        {
         "name": "Product Name",
         "rawType": "object",
         "type": "string"
        },
        {
         "name": "Sales",
         "rawType": "float64",
         "type": "float"
        },
        {
         "name": "Units",
         "rawType": "int64",
         "type": "integer"
        },
        {
         "name": "Gross Profit",
         "rawType": "float64",
         "type": "float"
        },
        {
         "name": "Cost",
         "rawType": "float64",
         "type": "float"
        }
       ],
       "ref": "fa333290-34d3-4a7b-b81e-aaec4c336c02",
       "rows": [
        [
         "0",
         "282",
         "US-2021-128055-CHO-TRI-54000",
         "2021-01-31",
         "2026-09-26",
         "Standard Class",
         "128055",
         "United States",
         "San Francisco",
         "California",
         "94122",
         "Chocolate",
         "Pacific",
         "CHO-TRI-54000",
         "Wonka Bar - Triple Dazzle Caramel",
         "7.5",
         "2",
         "4.9",
         "2.6"
        ],
        [
         "1",
         "288",
         "US-2021-128055-CHO-SCR-58000",
         "2021-03-31",
         "2026-09-26",
         "Standard Class",
         "128055",
         "United States",
         "San Francisco",
         "California",
         "94122",
         "Chocolate",
         "Pacific",
         "CHO-SCR-58000",
         "Wonka Bar -Scrumdiddlyumptious",
         "7.2",
         "2",
         "5.0",
         "2.2"
        ],
        [
         "2",
         "1132",
         "US-2021-138100-CHO-FUD-51000",
         "2021-09-15",
         "2027-03-13",
         "Standard Class",
         "138100",
         "United States",
         "New York City",
         "New York",
         "10011",
         "Chocolate",
         "Atlantic",
         "CHO-FUD-51000",
         "Wonka Bar - Fudge Mallows",
         "7.2",
         "2",
         "4.8",
         "2.4"
        ],
        [
         "3",
         "1133",
         "US-2021-138100-CHO-MIL-31000",
         "2021-09-15",
         "2027-03-13",
         "Standard Class",
         "138100",
         "United States",
         "New York City",
         "New York",
         "10011",
         "Chocolate",
         "Atlantic",
         "CHO-MIL-31000",
         "Wonka Bar - Milk Chocolate",
         "9.75",
         "3",
         "6.33",
         "3.42"
        ],
        [
         "4",
         "3396",
         "US-2022-121391-CHO-MIL-31000",
         "2022-10-04",
         "2028-03-29",
         "First Class",
         "121391",
         "United States",
         "San Francisco",
         "California",
         "94109",
         "Chocolate",
         "Pacific",
         "CHO-MIL-31000",
         "Wonka Bar - Milk Chocolate",
         "6.5",
         "2",
         "4.22",
         "2.28"
        ]
       ],
       "shape": {
        "columns": 18,
        "rows": 5
       }
      },
      "text/html": [
       "<div>\n",
       "<style scoped>\n",
       "    .dataframe tbody tr th:only-of-type {\n",
       "        vertical-align: middle;\n",
       "    }\n",
       "\n",
       "    .dataframe tbody tr th {\n",
       "        vertical-align: top;\n",
       "    }\n",
       "\n",
       "    .dataframe thead th {\n",
       "        text-align: right;\n",
       "    }\n",
       "</style>\n",
       "<table border=\"1\" class=\"dataframe\">\n",
       "  <thead>\n",
       "    <tr style=\"text-align: right;\">\n",
       "      <th></th>\n",
       "      <th>Row ID</th>\n",
       "      <th>Order ID</th>\n",
       "      <th>Order Date</th>\n",
       "      <th>Ship Date</th>\n",
       "      <th>Ship Mode</th>\n",
       "      <th>Customer ID</th>\n",
       "      <th>Country/Region</th>\n",
       "      <th>City</th>\n",
       "      <th>State/Province</th>\n",
       "      <th>Postal Code</th>\n",
       "      <th>Division</th>\n",
       "      <th>Region</th>\n",
       "      <th>Product ID</th>\n",
       "      <th>Product Name</th>\n",
       "      <th>Sales</th>\n",
       "      <th>Units</th>\n",
       "      <th>Gross Profit</th>\n",
       "      <th>Cost</th>\n",
       "    </tr>\n",
       "  </thead>\n",
       "  <tbody>\n",
       "    <tr>\n",
       "      <th>0</th>\n",
       "      <td>282</td>\n",
       "      <td>US-2021-128055-CHO-TRI-54000</td>\n",
       "      <td>2021-01-31</td>\n",
       "      <td>2026-09-26</td>\n",
       "      <td>Standard Class</td>\n",
       "      <td>128055</td>\n",
       "      <td>United States</td>\n",
       "      <td>San Francisco</td>\n",
       "      <td>California</td>\n",
       "      <td>94122</td>\n",
       "      <td>Chocolate</td>\n",
       "      <td>Pacific</td>\n",
       "      <td>CHO-TRI-54000</td>\n",
       "      <td>Wonka Bar - Triple Dazzle Caramel</td>\n",
       "      <td>7.50</td>\n",
       "      <td>2</td>\n",
       "      <td>4.90</td>\n",
       "      <td>2.60</td>\n",
       "    </tr>\n",
       "    <tr>\n",
       "      <th>1</th>\n",
       "      <td>288</td>\n",
       "      <td>US-2021-128055-CHO-SCR-58000</td>\n",
       "      <td>2021-03-31</td>\n",
       "      <td>2026-09-26</td>\n",
       "      <td>Standard Class</td>\n",
       "      <td>128055</td>\n",
       "      <td>United States</td>\n",
       "      <td>San Francisco</td>\n",
       "      <td>California</td>\n",
       "      <td>94122</td>\n",
       "      <td>Chocolate</td>\n",
       "      <td>Pacific</td>\n",
       "      <td>CHO-SCR-58000</td>\n",
       "      <td>Wonka Bar -Scrumdiddlyumptious</td>\n",
       "      <td>7.20</td>\n",
       "      <td>2</td>\n",
       "      <td>5.00</td>\n",
       "      <td>2.20</td>\n",
       "    </tr>\n",
       "    <tr>\n",
       "      <th>2</th>\n",
       "      <td>1132</td>\n",
       "      <td>US-2021-138100-CHO-FUD-51000</td>\n",
       "      <td>2021-09-15</td>\n",
       "      <td>2027-03-13</td>\n",
       "      <td>Standard Class</td>\n",
       "      <td>138100</td>\n",
       "      <td>United States</td>\n",
       "      <td>New York City</td>\n",
       "      <td>New York</td>\n",
       "      <td>10011</td>\n",
       "      <td>Chocolate</td>\n",
       "      <td>Atlantic</td>\n",
       "      <td>CHO-FUD-51000</td>\n",
       "      <td>Wonka Bar - Fudge Mallows</td>\n",
       "      <td>7.20</td>\n",
       "      <td>2</td>\n",
       "      <td>4.80</td>\n",
       "      <td>2.40</td>\n",
       "    </tr>\n",
       "    <tr>\n",
       "      <th>3</th>\n",
       "      <td>1133</td>\n",
       "      <td>US-2021-138100-CHO-MIL-31000</td>\n",
       "      <td>2021-09-15</td>\n",
       "      <td>2027-03-13</td>\n",
       "      <td>Standard Class</td>\n",
       "      <td>138100</td>\n",
       "      <td>United States</td>\n",
       "      <td>New York City</td>\n",
       "      <td>New York</td>\n",
       "      <td>10011</td>\n",
       "      <td>Chocolate</td>\n",
       "      <td>Atlantic</td>\n",
       "      <td>CHO-MIL-31000</td>\n",
       "      <td>Wonka Bar - Milk Chocolate</td>\n",
       "      <td>9.75</td>\n",
       "      <td>3</td>\n",
       "      <td>6.33</td>\n",
       "      <td>3.42</td>\n",
       "    </tr>\n",
       "    <tr>\n",
       "      <th>4</th>\n",
       "      <td>3396</td>\n",
       "      <td>US-2022-121391-CHO-MIL-31000</td>\n",
       "      <td>2022-10-04</td>\n",
       "      <td>2028-03-29</td>\n",
       "      <td>First Class</td>\n",
       "      <td>121391</td>\n",
       "      <td>United States</td>\n",
       "      <td>San Francisco</td>\n",
       "      <td>California</td>\n",
       "      <td>94109</td>\n",
       "      <td>Chocolate</td>\n",
       "      <td>Pacific</td>\n",
       "      <td>CHO-MIL-31000</td>\n",
       "      <td>Wonka Bar - Milk Chocolate</td>\n",
       "      <td>6.50</td>\n",
       "      <td>2</td>\n",
       "      <td>4.22</td>\n",
       "      <td>2.28</td>\n",
       "    </tr>\n",
       "  </tbody>\n",
       "</table>\n",
       "</div>"
      ],
      "text/plain": [
       "   Row ID                      Order ID  Order Date   Ship Date  \\\n",
       "0     282  US-2021-128055-CHO-TRI-54000  2021-01-31  2026-09-26   \n",
       "1     288  US-2021-128055-CHO-SCR-58000  2021-03-31  2026-09-26   \n",
       "2    1132  US-2021-138100-CHO-FUD-51000  2021-09-15  2027-03-13   \n",
       "3    1133  US-2021-138100-CHO-MIL-31000  2021-09-15  2027-03-13   \n",
       "4    3396  US-2022-121391-CHO-MIL-31000  2022-10-04  2028-03-29   \n",
       "\n",
       "        Ship Mode  Customer ID Country/Region           City State/Province  \\\n",
       "0  Standard Class       128055  United States  San Francisco     California   \n",
       "1  Standard Class       128055  United States  San Francisco     California   \n",
       "2  Standard Class       138100  United States  New York City       New York   \n",
       "3  Standard Class       138100  United States  New York City       New York   \n",
       "4     First Class       121391  United States  San Francisco     California   \n",
       "\n",
       "  Postal Code   Division    Region     Product ID  \\\n",
       "0       94122  Chocolate   Pacific  CHO-TRI-54000   \n",
       "1       94122  Chocolate   Pacific  CHO-SCR-58000   \n",
       "2       10011  Chocolate  Atlantic  CHO-FUD-51000   \n",
       "3       10011  Chocolate  Atlantic  CHO-MIL-31000   \n",
       "4       94109  Chocolate   Pacific  CHO-MIL-31000   \n",
       "\n",
       "                        Product Name  Sales  Units  Gross Profit  Cost  \n",
       "0  Wonka Bar - Triple Dazzle Caramel   7.50      2          4.90  2.60  \n",
       "1     Wonka Bar -Scrumdiddlyumptious   7.20      2          5.00  2.20  \n",
       "2          Wonka Bar - Fudge Mallows   7.20      2          4.80  2.40  \n",
       "3         Wonka Bar - Milk Chocolate   9.75      3          6.33  3.42  \n",
       "4         Wonka Bar - Milk Chocolate   6.50      2          4.22  2.28  "
      ]
     },
     "execution_count": 100,
     "metadata": {},
     "output_type": "execute_result"
    }
   ],
   "source": [
    "candy_sales_df = pd.read_csv(\"../datasets/Candy_Sales.csv\")\n",
    "candy_sales_df.head()"
   ]
  },
  {
   "cell_type": "code",
   "execution_count": 101,
   "id": "f5916d63",
   "metadata": {},
   "outputs": [
    {
     "name": "stdout",
     "output_type": "stream",
     "text": [
      "<class 'pandas.core.frame.DataFrame'>\n",
      "RangeIndex: 10194 entries, 0 to 10193\n",
      "Data columns (total 18 columns):\n",
      " #   Column          Non-Null Count  Dtype  \n",
      "---  ------          --------------  -----  \n",
      " 0   Row ID          10194 non-null  int64  \n",
      " 1   Order ID        10194 non-null  object \n",
      " 2   Order Date      10194 non-null  object \n",
      " 3   Ship Date       10194 non-null  object \n",
      " 4   Ship Mode       10194 non-null  object \n",
      " 5   Customer ID     10194 non-null  int64  \n",
      " 6   Country/Region  10194 non-null  object \n",
      " 7   City            10194 non-null  object \n",
      " 8   State/Province  10194 non-null  object \n",
      " 9   Postal Code     10194 non-null  object \n",
      " 10  Division        10194 non-null  object \n",
      " 11  Region          10194 non-null  object \n",
      " 12  Product ID      10194 non-null  object \n",
      " 13  Product Name    10194 non-null  object \n",
      " 14  Sales           10194 non-null  float64\n",
      " 15  Units           10194 non-null  int64  \n",
      " 16  Gross Profit    10194 non-null  float64\n",
      " 17  Cost            10194 non-null  float64\n",
      "dtypes: float64(3), int64(3), object(12)\n",
      "memory usage: 1.4+ MB\n"
     ]
    }
   ],
   "source": [
    "candy_sales_df.info()"
   ]
  },
  {
   "cell_type": "code",
   "execution_count": 102,
   "id": "ad649072",
   "metadata": {},
   "outputs": [
    {
     "data": {
      "text/plain": [
       "(10194, 18)"
      ]
     },
     "execution_count": 102,
     "metadata": {},
     "output_type": "execute_result"
    }
   ],
   "source": [
    "candy_sales_df.shape"
   ]
  },
  {
   "cell_type": "code",
   "execution_count": 103,
   "id": "613754db",
   "metadata": {},
   "outputs": [
    {
     "data": {
      "text/plain": [
       "10194"
      ]
     },
     "execution_count": 103,
     "metadata": {},
     "output_type": "execute_result"
    }
   ],
   "source": [
    "candy_sales_df[\"Row ID\"].nunique()"
   ]
  },
  {
   "cell_type": "code",
   "execution_count": 104,
   "id": "4ac873f8",
   "metadata": {},
   "outputs": [
    {
     "data": {
      "application/vnd.microsoft.datawrangler.viewer.v0+json": {
       "columns": [
        {
         "name": "index",
         "rawType": "object",
         "type": "string"
        },
        {
         "name": "Row ID",
         "rawType": "float64",
         "type": "float"
        },
        {
         "name": "Customer ID",
         "rawType": "float64",
         "type": "float"
        },
        {
         "name": "Sales",
         "rawType": "float64",
         "type": "float"
        },
        {
         "name": "Units",
         "rawType": "float64",
         "type": "float"
        },
        {
         "name": "Gross Profit",
         "rawType": "float64",
         "type": "float"
        },
        {
         "name": "Cost",
         "rawType": "float64",
         "type": "float"
        }
       ],
       "ref": "569c62c4-d54e-42f3-9248-72953ec13091",
       "rows": [
        [
         "count",
         "10194.0",
         "10194.0",
         "10194.0",
         "10194.0",
         "10194.0",
         "10194.0"
        ],
        [
         "mean",
         "5097.5",
         "134468.96115361978",
         "13.908537374926428",
         "3.791838336276241",
         "9.1664508534432",
         "4.742086521483226"
        ],
        [
         "std",
         "2942.898656087226",
         "20231.483007158695",
         "11.341019574834883",
         "2.2283168430597318",
         "6.643739824620089",
         "5.0616469342507004"
        ],
        [
         "min",
         "1.0",
         "100006.0",
         "1.25",
         "1.0",
         "0.25",
         "0.6"
        ],
        [
         "25%",
         "2549.25",
         "117212.0",
         "7.2",
         "2.0",
         "4.9",
         "2.4"
        ],
        [
         "50%",
         "5097.5",
         "133550.0",
         "10.8",
         "3.0",
         "7.47",
         "3.6"
        ],
        [
         "75%",
         "7645.75",
         "152051.0",
         "18.0",
         "5.0",
         "12.25",
         "5.7"
        ],
        [
         "max",
         "10194.0",
         "192314.0",
         "260.0",
         "14.0",
         "130.0",
         "130.0"
        ]
       ],
       "shape": {
        "columns": 6,
        "rows": 8
       }
      },
      "text/html": [
       "<div>\n",
       "<style scoped>\n",
       "    .dataframe tbody tr th:only-of-type {\n",
       "        vertical-align: middle;\n",
       "    }\n",
       "\n",
       "    .dataframe tbody tr th {\n",
       "        vertical-align: top;\n",
       "    }\n",
       "\n",
       "    .dataframe thead th {\n",
       "        text-align: right;\n",
       "    }\n",
       "</style>\n",
       "<table border=\"1\" class=\"dataframe\">\n",
       "  <thead>\n",
       "    <tr style=\"text-align: right;\">\n",
       "      <th></th>\n",
       "      <th>Row ID</th>\n",
       "      <th>Customer ID</th>\n",
       "      <th>Sales</th>\n",
       "      <th>Units</th>\n",
       "      <th>Gross Profit</th>\n",
       "      <th>Cost</th>\n",
       "    </tr>\n",
       "  </thead>\n",
       "  <tbody>\n",
       "    <tr>\n",
       "      <th>count</th>\n",
       "      <td>10194.000000</td>\n",
       "      <td>10194.000000</td>\n",
       "      <td>10194.000000</td>\n",
       "      <td>10194.000000</td>\n",
       "      <td>10194.000000</td>\n",
       "      <td>10194.000000</td>\n",
       "    </tr>\n",
       "    <tr>\n",
       "      <th>mean</th>\n",
       "      <td>5097.500000</td>\n",
       "      <td>134468.961154</td>\n",
       "      <td>13.908537</td>\n",
       "      <td>3.791838</td>\n",
       "      <td>9.166451</td>\n",
       "      <td>4.742087</td>\n",
       "    </tr>\n",
       "    <tr>\n",
       "      <th>std</th>\n",
       "      <td>2942.898656</td>\n",
       "      <td>20231.483007</td>\n",
       "      <td>11.341020</td>\n",
       "      <td>2.228317</td>\n",
       "      <td>6.643740</td>\n",
       "      <td>5.061647</td>\n",
       "    </tr>\n",
       "    <tr>\n",
       "      <th>min</th>\n",
       "      <td>1.000000</td>\n",
       "      <td>100006.000000</td>\n",
       "      <td>1.250000</td>\n",
       "      <td>1.000000</td>\n",
       "      <td>0.250000</td>\n",
       "      <td>0.600000</td>\n",
       "    </tr>\n",
       "    <tr>\n",
       "      <th>25%</th>\n",
       "      <td>2549.250000</td>\n",
       "      <td>117212.000000</td>\n",
       "      <td>7.200000</td>\n",
       "      <td>2.000000</td>\n",
       "      <td>4.900000</td>\n",
       "      <td>2.400000</td>\n",
       "    </tr>\n",
       "    <tr>\n",
       "      <th>50%</th>\n",
       "      <td>5097.500000</td>\n",
       "      <td>133550.000000</td>\n",
       "      <td>10.800000</td>\n",
       "      <td>3.000000</td>\n",
       "      <td>7.470000</td>\n",
       "      <td>3.600000</td>\n",
       "    </tr>\n",
       "    <tr>\n",
       "      <th>75%</th>\n",
       "      <td>7645.750000</td>\n",
       "      <td>152051.000000</td>\n",
       "      <td>18.000000</td>\n",
       "      <td>5.000000</td>\n",
       "      <td>12.250000</td>\n",
       "      <td>5.700000</td>\n",
       "    </tr>\n",
       "    <tr>\n",
       "      <th>max</th>\n",
       "      <td>10194.000000</td>\n",
       "      <td>192314.000000</td>\n",
       "      <td>260.000000</td>\n",
       "      <td>14.000000</td>\n",
       "      <td>130.000000</td>\n",
       "      <td>130.000000</td>\n",
       "    </tr>\n",
       "  </tbody>\n",
       "</table>\n",
       "</div>"
      ],
      "text/plain": [
       "             Row ID    Customer ID         Sales         Units  Gross Profit  \\\n",
       "count  10194.000000   10194.000000  10194.000000  10194.000000  10194.000000   \n",
       "mean    5097.500000  134468.961154     13.908537      3.791838      9.166451   \n",
       "std     2942.898656   20231.483007     11.341020      2.228317      6.643740   \n",
       "min        1.000000  100006.000000      1.250000      1.000000      0.250000   \n",
       "25%     2549.250000  117212.000000      7.200000      2.000000      4.900000   \n",
       "50%     5097.500000  133550.000000     10.800000      3.000000      7.470000   \n",
       "75%     7645.750000  152051.000000     18.000000      5.000000     12.250000   \n",
       "max    10194.000000  192314.000000    260.000000     14.000000    130.000000   \n",
       "\n",
       "               Cost  \n",
       "count  10194.000000  \n",
       "mean       4.742087  \n",
       "std        5.061647  \n",
       "min        0.600000  \n",
       "25%        2.400000  \n",
       "50%        3.600000  \n",
       "75%        5.700000  \n",
       "max      130.000000  "
      ]
     },
     "execution_count": 104,
     "metadata": {},
     "output_type": "execute_result"
    }
   ],
   "source": [
    "candy_sales_df.describe()"
   ]
  },
  {
   "cell_type": "code",
   "execution_count": 105,
   "id": "4dd71a03",
   "metadata": {},
   "outputs": [],
   "source": [
    "candy_sales_df[\"Order Date\"] = pd.to_datetime(\n",
    "    candy_sales_df[\"Order Date\"],\n",
    "    # format=\"%y-%m-%d\",\n",
    "    # errors=\"coerce\"\n",
    ")\n",
    "\n",
    "candy_sales_df[\"Ship Date\"] = pd.to_datetime(candy_sales_df[\"Ship Date\"])"
   ]
  },
  {
   "cell_type": "code",
   "execution_count": 106,
   "id": "5d40fa22",
   "metadata": {},
   "outputs": [
    {
     "data": {
      "application/vnd.microsoft.datawrangler.viewer.v0+json": {
       "columns": [
        {
         "name": "index",
         "rawType": "int64",
         "type": "integer"
        },
        {
         "name": "Order ID",
         "rawType": "bool",
         "type": "boolean"
        }
       ],
       "ref": "cd1739d2-07d3-4ac1-accc-699e34c1b1cf",
       "rows": [
        [
         "0",
         "False"
        ],
        [
         "1",
         "False"
        ],
        [
         "2",
         "False"
        ],
        [
         "3",
         "True"
        ],
        [
         "4",
         "False"
        ],
        [
         "5",
         "False"
        ],
        [
         "6",
         "False"
        ],
        [
         "7",
         "False"
        ],
        [
         "8",
         "False"
        ],
        [
         "9",
         "False"
        ],
        [
         "10",
         "False"
        ],
        [
         "11",
         "False"
        ],
        [
         "12",
         "False"
        ],
        [
         "13",
         "False"
        ],
        [
         "14",
         "False"
        ],
        [
         "15",
         "False"
        ],
        [
         "16",
         "False"
        ],
        [
         "17",
         "False"
        ],
        [
         "18",
         "False"
        ],
        [
         "19",
         "False"
        ],
        [
         "20",
         "False"
        ],
        [
         "21",
         "False"
        ],
        [
         "22",
         "False"
        ],
        [
         "23",
         "False"
        ],
        [
         "24",
         "False"
        ],
        [
         "25",
         "False"
        ],
        [
         "26",
         "False"
        ],
        [
         "27",
         "False"
        ],
        [
         "28",
         "False"
        ],
        [
         "29",
         "False"
        ],
        [
         "30",
         "False"
        ],
        [
         "31",
         "False"
        ],
        [
         "32",
         "False"
        ],
        [
         "33",
         "False"
        ],
        [
         "34",
         "False"
        ],
        [
         "35",
         "False"
        ],
        [
         "36",
         "False"
        ],
        [
         "37",
         "False"
        ],
        [
         "38",
         "False"
        ],
        [
         "39",
         "False"
        ],
        [
         "40",
         "False"
        ],
        [
         "41",
         "False"
        ],
        [
         "42",
         "False"
        ],
        [
         "43",
         "False"
        ],
        [
         "44",
         "False"
        ],
        [
         "45",
         "False"
        ],
        [
         "46",
         "False"
        ],
        [
         "47",
         "False"
        ],
        [
         "48",
         "False"
        ],
        [
         "49",
         "False"
        ]
       ],
       "shape": {
        "columns": 1,
        "rows": 10194
       }
      },
      "text/plain": [
       "0        False\n",
       "1        False\n",
       "2        False\n",
       "3         True\n",
       "4        False\n",
       "         ...  \n",
       "10189    False\n",
       "10190    False\n",
       "10191    False\n",
       "10192    False\n",
       "10193    False\n",
       "Name: Order ID, Length: 10194, dtype: bool"
      ]
     },
     "execution_count": 106,
     "metadata": {},
     "output_type": "execute_result"
    }
   ],
   "source": [
    "candy_sales_df[\"Order ID\"]\n",
    "candy_sales_df[\"Order ID\"] == \"US-2021-138100-CHO-MIL-31000\""
   ]
  },
  {
   "cell_type": "code",
   "execution_count": 107,
   "id": "9b60ea34",
   "metadata": {},
   "outputs": [
    {
     "data": {
      "application/vnd.microsoft.datawrangler.viewer.v0+json": {
       "columns": [
        {
         "name": "index",
         "rawType": "int64",
         "type": "integer"
        },
        {
         "name": "Row ID",
         "rawType": "int64",
         "type": "integer"
        },
        {
         "name": "Order ID",
         "rawType": "object",
         "type": "string"
        },
        {
         "name": "Order Date",
         "rawType": "datetime64[ns]",
         "type": "datetime"
        },
        {
         "name": "Ship Date",
         "rawType": "datetime64[ns]",
         "type": "datetime"
        },
        {
         "name": "Ship Mode",
         "rawType": "object",
         "type": "string"
        },
        {
         "name": "Customer ID",
         "rawType": "int64",
         "type": "integer"
        },
        {
         "name": "Country/Region",
         "rawType": "object",
         "type": "string"
        },
        {
         "name": "City",
         "rawType": "object",
         "type": "string"
        },
        {
         "name": "State/Province",
         "rawType": "object",
         "type": "string"
        },
        {
         "name": "Postal Code",
         "rawType": "object",
         "type": "string"
        },
        {
         "name": "Division",
         "rawType": "object",
         "type": "string"
        },
        {
         "name": "Region",
         "rawType": "object",
         "type": "string"
        },
        {
         "name": "Product ID",
         "rawType": "object",
         "type": "string"
        },
        {
         "name": "Product Name",
         "rawType": "object",
         "type": "string"
        },
        {
         "name": "Sales",
         "rawType": "float64",
         "type": "float"
        },
        {
         "name": "Units",
         "rawType": "int64",
         "type": "integer"
        },
        {
         "name": "Gross Profit",
         "rawType": "float64",
         "type": "float"
        },
        {
         "name": "Cost",
         "rawType": "float64",
         "type": "float"
        }
       ],
       "ref": "463c0bc3-0c35-4beb-8036-fbcdb867c631",
       "rows": [
        [
         "170",
         "8488",
         "US-2024-157987-CHO-NUT-13000",
         "2024-09-02 00:00:00",
         "2030-02-27 00:00:00",
         "Standard Class",
         "157987",
         "United States",
         "New York City",
         "New York",
         "10009",
         "Chocolate",
         "Atlantic",
         "CHO-NUT-13000",
         "Wonka Bar - Nutty Crunch Surprise",
         "6.98",
         "2",
         "4.98",
         "2.0"
        ],
        [
         "172",
         "8493",
         "US-2024-157987-CHO-NUT-13000",
         "2024-09-02 00:00:00",
         "2030-02-27 00:00:00",
         "Standard Class",
         "157987",
         "United States",
         "New York City",
         "New York",
         "10009",
         "Chocolate",
         "Atlantic",
         "CHO-NUT-13000",
         "Wonka Bar - Nutty Crunch Surprise",
         "3.49",
         "1",
         "2.49",
         "1.0"
        ],
        [
         "174",
         "8499",
         "US-2024-157987-CHO-NUT-13000",
         "2024-09-02 00:00:00",
         "2030-02-27 00:00:00",
         "Standard Class",
         "157987",
         "United States",
         "New York City",
         "New York",
         "10009",
         "Chocolate",
         "Atlantic",
         "CHO-NUT-13000",
         "Wonka Bar - Nutty Crunch Surprise",
         "10.47",
         "3",
         "7.47",
         "3.0"
        ],
        [
         "175",
         "8503",
         "US-2024-157987-CHO-NUT-13000",
         "2024-09-02 00:00:00",
         "2030-02-27 00:00:00",
         "Standard Class",
         "157987",
         "United States",
         "New York City",
         "New York",
         "10009",
         "Chocolate",
         "Atlantic",
         "CHO-NUT-13000",
         "Wonka Bar - Nutty Crunch Surprise",
         "27.92",
         "8",
         "19.92",
         "8.0"
        ],
        [
         "178",
         "8515",
         "US-2024-157987-CHO-NUT-13000",
         "2024-09-02 00:00:00",
         "2030-02-27 00:00:00",
         "Standard Class",
         "157987",
         "United States",
         "New York City",
         "New York",
         "10009",
         "Chocolate",
         "Atlantic",
         "CHO-NUT-13000",
         "Wonka Bar - Nutty Crunch Surprise",
         "10.47",
         "3",
         "7.47",
         "3.0"
        ]
       ],
       "shape": {
        "columns": 18,
        "rows": 5
       }
      },
      "text/html": [
       "<div>\n",
       "<style scoped>\n",
       "    .dataframe tbody tr th:only-of-type {\n",
       "        vertical-align: middle;\n",
       "    }\n",
       "\n",
       "    .dataframe tbody tr th {\n",
       "        vertical-align: top;\n",
       "    }\n",
       "\n",
       "    .dataframe thead th {\n",
       "        text-align: right;\n",
       "    }\n",
       "</style>\n",
       "<table border=\"1\" class=\"dataframe\">\n",
       "  <thead>\n",
       "    <tr style=\"text-align: right;\">\n",
       "      <th></th>\n",
       "      <th>Row ID</th>\n",
       "      <th>Order ID</th>\n",
       "      <th>Order Date</th>\n",
       "      <th>Ship Date</th>\n",
       "      <th>Ship Mode</th>\n",
       "      <th>Customer ID</th>\n",
       "      <th>Country/Region</th>\n",
       "      <th>City</th>\n",
       "      <th>State/Province</th>\n",
       "      <th>Postal Code</th>\n",
       "      <th>Division</th>\n",
       "      <th>Region</th>\n",
       "      <th>Product ID</th>\n",
       "      <th>Product Name</th>\n",
       "      <th>Sales</th>\n",
       "      <th>Units</th>\n",
       "      <th>Gross Profit</th>\n",
       "      <th>Cost</th>\n",
       "    </tr>\n",
       "  </thead>\n",
       "  <tbody>\n",
       "    <tr>\n",
       "      <th>170</th>\n",
       "      <td>8488</td>\n",
       "      <td>US-2024-157987-CHO-NUT-13000</td>\n",
       "      <td>2024-09-02</td>\n",
       "      <td>2030-02-27</td>\n",
       "      <td>Standard Class</td>\n",
       "      <td>157987</td>\n",
       "      <td>United States</td>\n",
       "      <td>New York City</td>\n",
       "      <td>New York</td>\n",
       "      <td>10009</td>\n",
       "      <td>Chocolate</td>\n",
       "      <td>Atlantic</td>\n",
       "      <td>CHO-NUT-13000</td>\n",
       "      <td>Wonka Bar - Nutty Crunch Surprise</td>\n",
       "      <td>6.98</td>\n",
       "      <td>2</td>\n",
       "      <td>4.98</td>\n",
       "      <td>2.0</td>\n",
       "    </tr>\n",
       "    <tr>\n",
       "      <th>172</th>\n",
       "      <td>8493</td>\n",
       "      <td>US-2024-157987-CHO-NUT-13000</td>\n",
       "      <td>2024-09-02</td>\n",
       "      <td>2030-02-27</td>\n",
       "      <td>Standard Class</td>\n",
       "      <td>157987</td>\n",
       "      <td>United States</td>\n",
       "      <td>New York City</td>\n",
       "      <td>New York</td>\n",
       "      <td>10009</td>\n",
       "      <td>Chocolate</td>\n",
       "      <td>Atlantic</td>\n",
       "      <td>CHO-NUT-13000</td>\n",
       "      <td>Wonka Bar - Nutty Crunch Surprise</td>\n",
       "      <td>3.49</td>\n",
       "      <td>1</td>\n",
       "      <td>2.49</td>\n",
       "      <td>1.0</td>\n",
       "    </tr>\n",
       "    <tr>\n",
       "      <th>174</th>\n",
       "      <td>8499</td>\n",
       "      <td>US-2024-157987-CHO-NUT-13000</td>\n",
       "      <td>2024-09-02</td>\n",
       "      <td>2030-02-27</td>\n",
       "      <td>Standard Class</td>\n",
       "      <td>157987</td>\n",
       "      <td>United States</td>\n",
       "      <td>New York City</td>\n",
       "      <td>New York</td>\n",
       "      <td>10009</td>\n",
       "      <td>Chocolate</td>\n",
       "      <td>Atlantic</td>\n",
       "      <td>CHO-NUT-13000</td>\n",
       "      <td>Wonka Bar - Nutty Crunch Surprise</td>\n",
       "      <td>10.47</td>\n",
       "      <td>3</td>\n",
       "      <td>7.47</td>\n",
       "      <td>3.0</td>\n",
       "    </tr>\n",
       "    <tr>\n",
       "      <th>175</th>\n",
       "      <td>8503</td>\n",
       "      <td>US-2024-157987-CHO-NUT-13000</td>\n",
       "      <td>2024-09-02</td>\n",
       "      <td>2030-02-27</td>\n",
       "      <td>Standard Class</td>\n",
       "      <td>157987</td>\n",
       "      <td>United States</td>\n",
       "      <td>New York City</td>\n",
       "      <td>New York</td>\n",
       "      <td>10009</td>\n",
       "      <td>Chocolate</td>\n",
       "      <td>Atlantic</td>\n",
       "      <td>CHO-NUT-13000</td>\n",
       "      <td>Wonka Bar - Nutty Crunch Surprise</td>\n",
       "      <td>27.92</td>\n",
       "      <td>8</td>\n",
       "      <td>19.92</td>\n",
       "      <td>8.0</td>\n",
       "    </tr>\n",
       "    <tr>\n",
       "      <th>178</th>\n",
       "      <td>8515</td>\n",
       "      <td>US-2024-157987-CHO-NUT-13000</td>\n",
       "      <td>2024-09-02</td>\n",
       "      <td>2030-02-27</td>\n",
       "      <td>Standard Class</td>\n",
       "      <td>157987</td>\n",
       "      <td>United States</td>\n",
       "      <td>New York City</td>\n",
       "      <td>New York</td>\n",
       "      <td>10009</td>\n",
       "      <td>Chocolate</td>\n",
       "      <td>Atlantic</td>\n",
       "      <td>CHO-NUT-13000</td>\n",
       "      <td>Wonka Bar - Nutty Crunch Surprise</td>\n",
       "      <td>10.47</td>\n",
       "      <td>3</td>\n",
       "      <td>7.47</td>\n",
       "      <td>3.0</td>\n",
       "    </tr>\n",
       "  </tbody>\n",
       "</table>\n",
       "</div>"
      ],
      "text/plain": [
       "     Row ID                      Order ID Order Date  Ship Date  \\\n",
       "170    8488  US-2024-157987-CHO-NUT-13000 2024-09-02 2030-02-27   \n",
       "172    8493  US-2024-157987-CHO-NUT-13000 2024-09-02 2030-02-27   \n",
       "174    8499  US-2024-157987-CHO-NUT-13000 2024-09-02 2030-02-27   \n",
       "175    8503  US-2024-157987-CHO-NUT-13000 2024-09-02 2030-02-27   \n",
       "178    8515  US-2024-157987-CHO-NUT-13000 2024-09-02 2030-02-27   \n",
       "\n",
       "          Ship Mode  Customer ID Country/Region           City State/Province  \\\n",
       "170  Standard Class       157987  United States  New York City       New York   \n",
       "172  Standard Class       157987  United States  New York City       New York   \n",
       "174  Standard Class       157987  United States  New York City       New York   \n",
       "175  Standard Class       157987  United States  New York City       New York   \n",
       "178  Standard Class       157987  United States  New York City       New York   \n",
       "\n",
       "    Postal Code   Division    Region     Product ID  \\\n",
       "170       10009  Chocolate  Atlantic  CHO-NUT-13000   \n",
       "172       10009  Chocolate  Atlantic  CHO-NUT-13000   \n",
       "174       10009  Chocolate  Atlantic  CHO-NUT-13000   \n",
       "175       10009  Chocolate  Atlantic  CHO-NUT-13000   \n",
       "178       10009  Chocolate  Atlantic  CHO-NUT-13000   \n",
       "\n",
       "                          Product Name  Sales  Units  Gross Profit  Cost  \n",
       "170  Wonka Bar - Nutty Crunch Surprise   6.98      2          4.98   2.0  \n",
       "172  Wonka Bar - Nutty Crunch Surprise   3.49      1          2.49   1.0  \n",
       "174  Wonka Bar - Nutty Crunch Surprise  10.47      3          7.47   3.0  \n",
       "175  Wonka Bar - Nutty Crunch Surprise  27.92      8         19.92   8.0  \n",
       "178  Wonka Bar - Nutty Crunch Surprise  10.47      3          7.47   3.0  "
      ]
     },
     "execution_count": 107,
     "metadata": {},
     "output_type": "execute_result"
    }
   ],
   "source": [
    "order_id_mask = candy_sales_df[\"Order ID\"] == \"US-2024-157987-CHO-NUT-13000\"\n",
    "\n",
    "candy_sales_df[order_id_mask]"
   ]
  },
  {
   "cell_type": "markdown",
   "id": "cf59107b",
   "metadata": {},
   "source": [
    "## Orders by country"
   ]
  },
  {
   "cell_type": "code",
   "execution_count": 108,
   "id": "cf8e2b1b",
   "metadata": {},
   "outputs": [
    {
     "data": {
      "application/vnd.microsoft.datawrangler.viewer.v0+json": {
       "columns": [
        {
         "name": "Country/Region",
         "rawType": "object",
         "type": "string"
        },
        {
         "name": "count",
         "rawType": "int64",
         "type": "integer"
        }
       ],
       "ref": "a17b96f7-a84c-4d93-a676-301a0da55088",
       "rows": [
        [
         "United States",
         "9994"
        ],
        [
         "Canada",
         "200"
        ]
       ],
       "shape": {
        "columns": 1,
        "rows": 2
       }
      },
      "text/plain": [
       "Country/Region\n",
       "United States    9994\n",
       "Canada            200\n",
       "Name: count, dtype: int64"
      ]
     },
     "execution_count": 108,
     "metadata": {},
     "output_type": "execute_result"
    }
   ],
   "source": [
    "country_orders = candy_sales_df[\"Country/Region\"].value_counts()\n",
    "country_orders"
   ]
  },
  {
   "cell_type": "code",
   "execution_count": 109,
   "id": "dfaf32a7",
   "metadata": {},
   "outputs": [
    {
     "data": {
      "image/png": "[encoded data removed]",
      "text/plain": [
       "<Figure size 640x480 with 1 Axes>"
      ]
     },
     "metadata": {},
     "output_type": "display_data"
    }
   ],
   "source": [
    "country_orders.plot(kind=\"bar\", title=\"Number of Orders by Country\", rot=0)\n",
    "plt.show()"
   ]
  },
  {
   "cell_type": "markdown",
   "id": "2e7f0c28",
   "metadata": {},
   "source": [
    "## Days to Ship"
   ]
  },
  {
   "cell_type": "code",
   "execution_count": 110,
   "id": "23b8ac79",
   "metadata": {},
   "outputs": [],
   "source": [
    "candy_sales_df[\"ship_time\"] = candy_sales_df[\"Ship Date\"] - candy_sales_df[\"Order Date\"]\n",
    "candy_sales_df[\"ship_time\"] = candy_sales_df[\"ship_time\"].dt.days"
   ]
  },
  {
   "cell_type": "code",
   "execution_count": 111,
   "id": "fc9acf51",
   "metadata": {},
   "outputs": [
    {
     "data": {
      "image/png": "[encoded data removed]",
      "text/plain": [
       "<Figure size 640x480 with 1 Axes>"
      ]
     },
     "metadata": {},
     "output_type": "display_data"
    }
   ],
   "source": [
    "candy_sales_df[\"ship_time\"].hist(range=[2000, 2010], bins=10)\n",
    "plt.xlabel(\"Days to Ship\")\n",
    "plt.ylabel(\"Number of Orders\")\n",
    "plt.show()\n"
   ]
  },
  {
   "cell_type": "markdown",
   "id": "6a1ec975",
   "metadata": {},
   "source": [
    "## Popular products"
   ]
  },
  {
   "cell_type": "code",
   "execution_count": 112,
   "id": "5b402a69",
   "metadata": {},
   "outputs": [
    {
     "data": {
      "image/png": "[encoded data removed]",
      "text/plain": [
       "<Figure size 1000x700 with 1 Axes>"
      ]
     },
     "metadata": {},
     "output_type": "display_data"
    }
   ],
   "source": [
    "candy_sales_df[\"Product Name\"].value_counts(ascending=True) \\\n",
    "    .plot(kind=\"barh\", figsize=(10, 7), width=0.8)\n",
    "plt.title(\"Number of Orders by Product\")\n",
    "plt.show()"
   ]
  },
  {
   "cell_type": "code",
   "execution_count": 113,
   "id": "60c8f35b",
   "metadata": {},
   "outputs": [
    {
     "data": {
      "image/png": "[encoded data removed]",
      "text/plain": [
       "<Figure size 1000x700 with 1 Axes>"
      ]
     },
     "metadata": {},
     "output_type": "display_data"
    }
   ],
   "source": [
    "candy_sales_df.groupby(\"Product Name\")[\"Sales\"].sum().sort_values(ascending=True) \\\n",
    "    .plot(kind=\"barh\", figsize=(10, 7), width=0.8)\n",
    "plt.title(\"Total Sales by Product\")\n",
    "plt.show()"
   ]
  },
  {
   "cell_type": "code",
   "execution_count": 114,
   "id": "bccf3573",
   "metadata": {},
   "outputs": [
    {
     "data": {
      "text/plain": [
       "Index(['Row ID', 'Order ID', 'Order Date', 'Ship Date', 'Ship Mode',\n",
       "       'Customer ID', 'Country/Region', 'City', 'State/Province',\n",
       "       'Postal Code', 'Division', 'Region', 'Product ID', 'Product Name',\n",
       "       'Sales', 'Units', 'Gross Profit', 'Cost', 'ship_time'],\n",
       "      dtype='object')"
      ]
     },
     "execution_count": 114,
     "metadata": {},
     "output_type": "execute_result"
    }
   ],
   "source": [
    "candy_sales_df.columns"
   ]
  },
  {
   "cell_type": "markdown",
   "id": "677ecb92",
   "metadata": {},
   "source": [
    "## Sales vs Profit of top 5 products"
   ]
  },
  {
   "cell_type": "code",
   "execution_count": 115,
   "id": "57f5f64f",
   "metadata": {},
   "outputs": [
    {
     "data": {
      "application/vnd.microsoft.datawrangler.viewer.v0+json": {
       "columns": [
        {
         "name": "index",
         "rawType": "int64",
         "type": "integer"
        },
        {
         "name": "Product Name",
         "rawType": "object",
         "type": "string"
        }
       ],
       "ref": "25bb18b5-e3b1-4554-826b-0702eb5f8b39",
       "rows": [
        [
         "0",
         "Wonka Bar - Milk Chocolate"
        ],
        [
         "1",
         "Wonka Bar -Scrumdiddlyumptious"
        ],
        [
         "2",
         "Wonka Bar - Triple Dazzle Caramel"
        ],
        [
         "3",
         "Wonka Bar - Fudge Mallows"
        ],
        [
         "4",
         "Wonka Bar - Nutty Crunch Surprise"
        ]
       ],
       "shape": {
        "columns": 1,
        "rows": 5
       }
      },
      "text/plain": [
       "0           Wonka Bar - Milk Chocolate\n",
       "1       Wonka Bar -Scrumdiddlyumptious\n",
       "2    Wonka Bar - Triple Dazzle Caramel\n",
       "3            Wonka Bar - Fudge Mallows\n",
       "4    Wonka Bar - Nutty Crunch Surprise\n",
       "Name: Product Name, dtype: object"
      ]
     },
     "execution_count": 115,
     "metadata": {},
     "output_type": "execute_result"
    }
   ],
   "source": [
    "candy_orders = candy_sales_df[\"Product Name\"].value_counts(ascending=False).reset_index()\n",
    "top_5_prodcuts = candy_orders.loc[:4, \"Product Name\"] # subsetting\n",
    "top_5_prodcuts\n"
   ]
  },
  {
   "cell_type": "code",
   "execution_count": 116,
   "id": "b9e91442",
   "metadata": {},
   "outputs": [],
   "source": [
    "top_5_product_sales = candy_sales_df[candy_sales_df[\"Product Name\"].isin(top_5_prodcuts)]"
   ]
  },
  {
   "cell_type": "code",
   "execution_count": 117,
   "id": "dc329cee",
   "metadata": {},
   "outputs": [
    {
     "data": {
      "image/png": "[encoded data removed]",
      "text/plain": [
       "<Figure size 640x480 with 1 Axes>"
      ]
     },
     "metadata": {},
     "output_type": "display_data"
    }
   ],
   "source": [
    "plt.scatter(x=top_5_product_sales[\"Sales\"], y=top_5_product_sales[\"Gross Profit\"])\n",
    "plt.show()\n"
   ]
  },
  {
   "cell_type": "markdown",
   "id": "d653ea6a",
   "metadata": {},
   "source": [
    "## 2021 Sales"
   ]
  },
  {
   "cell_type": "code",
   "execution_count": 118,
   "id": "2fba744a",
   "metadata": {},
   "outputs": [
    {
     "data": {
      "application/vnd.microsoft.datawrangler.viewer.v0+json": {
       "columns": [
        {
         "name": "index",
         "rawType": "int64",
         "type": "integer"
        },
        {
         "name": "Row ID",
         "rawType": "int64",
         "type": "integer"
        },
        {
         "name": "Order ID",
         "rawType": "object",
         "type": "string"
        },
        {
         "name": "Order Date",
         "rawType": "datetime64[ns]",
         "type": "datetime"
        },
        {
         "name": "Ship Date",
         "rawType": "datetime64[ns]",
         "type": "datetime"
        },
        {
         "name": "Ship Mode",
         "rawType": "object",
         "type": "string"
        },
        {
         "name": "Customer ID",
         "rawType": "int64",
         "type": "integer"
        },
        {
         "name": "Country/Region",
         "rawType": "object",
         "type": "string"
        },
        {
         "name": "City",
         "rawType": "object",
         "type": "string"
        },
        {
         "name": "State/Province",
         "rawType": "object",
         "type": "string"
        },
        {
         "name": "Postal Code",
         "rawType": "object",
         "type": "string"
        },
        {
         "name": "Division",
         "rawType": "object",
         "type": "string"
        },
        {
         "name": "Region",
         "rawType": "object",
         "type": "string"
        },
        {
         "name": "Product ID",
         "rawType": "object",
         "type": "string"
        },
        {
         "name": "Product Name",
         "rawType": "object",
         "type": "string"
        },
        {
         "name": "Sales",
         "rawType": "float64",
         "type": "float"
        },
        {
         "name": "Units",
         "rawType": "int64",
         "type": "integer"
        },
        {
         "name": "Gross Profit",
         "rawType": "float64",
         "type": "float"
        },
        {
         "name": "Cost",
         "rawType": "float64",
         "type": "float"
        },
        {
         "name": "ship_time",
         "rawType": "int64",
         "type": "integer"
        }
       ],
       "ref": "da10beb0-e2d3-4764-912a-12133afbbb80",
       "rows": [
        [
         "0",
         "282",
         "US-2021-128055-CHO-TRI-54000",
         "2021-01-31 00:00:00",
         "2026-09-26 00:00:00",
         "Standard Class",
         "128055",
         "United States",
         "San Francisco",
         "California",
         "94122",
         "Chocolate",
         "Pacific",
         "CHO-TRI-54000",
         "Wonka Bar - Triple Dazzle Caramel",
         "7.5",
         "2",
         "4.9",
         "2.6",
         "2064"
        ],
        [
         "1",
         "288",
         "US-2021-128055-CHO-SCR-58000",
         "2021-03-31 00:00:00",
         "2026-09-26 00:00:00",
         "Standard Class",
         "128055",
         "United States",
         "San Francisco",
         "California",
         "94122",
         "Chocolate",
         "Pacific",
         "CHO-SCR-58000",
         "Wonka Bar -Scrumdiddlyumptious",
         "7.2",
         "2",
         "5.0",
         "2.2",
         "2005"
        ],
        [
         "2",
         "1132",
         "US-2021-138100-CHO-FUD-51000",
         "2021-09-15 00:00:00",
         "2027-03-13 00:00:00",
         "Standard Class",
         "138100",
         "United States",
         "New York City",
         "New York",
         "10011",
         "Chocolate",
         "Atlantic",
         "CHO-FUD-51000",
         "Wonka Bar - Fudge Mallows",
         "7.2",
         "2",
         "4.8",
         "2.4",
         "2005"
        ],
        [
         "3",
         "1133",
         "US-2021-138100-CHO-MIL-31000",
         "2021-09-15 00:00:00",
         "2027-03-13 00:00:00",
         "Standard Class",
         "138100",
         "United States",
         "New York City",
         "New York",
         "10011",
         "Chocolate",
         "Atlantic",
         "CHO-MIL-31000",
         "Wonka Bar - Milk Chocolate",
         "9.75",
         "3",
         "6.33",
         "3.42",
         "2005"
        ],
        [
         "11",
         "387",
         "US-2021-158064-CHO-MIL-31000",
         "2021-04-21 00:00:00",
         "2026-10-16 00:00:00",
         "Standard Class",
         "158064",
         "United States",
         "Los Angeles",
         "California",
         "90008",
         "Chocolate",
         "Pacific",
         "CHO-MIL-31000",
         "Wonka Bar - Milk Chocolate",
         "16.25",
         "5",
         "10.55",
         "5.7",
         "2004"
        ],
        [
         "12",
         "1397",
         "US-2021-130729-CHO-MIL-31000",
         "2021-10-24 00:00:00",
         "2027-04-21 00:00:00",
         "Standard Class",
         "130729",
         "United States",
         "Rancho Cucamonga",
         "California",
         "91730",
         "Chocolate",
         "Pacific",
         "CHO-MIL-31000",
         "Wonka Bar - Milk Chocolate",
         "9.75",
         "3",
         "6.33",
         "3.42",
         "2005"
        ],
        [
         "26",
         "430",
         "US-2021-155271-CHO-TRI-54000",
         "2021-05-04 00:00:00",
         "2026-10-25 00:00:00",
         "Same Day",
         "155271",
         "United States",
         "Middletown",
         "Connecticut",
         "06457",
         "Chocolate",
         "Atlantic",
         "CHO-TRI-54000",
         "Wonka Bar - Triple Dazzle Caramel",
         "7.5",
         "2",
         "4.9",
         "2.6",
         "2000"
        ],
        [
         "38",
         "659",
         "US-2021-154963-CHO-FUD-51000",
         "2021-06-22 00:00:00",
         "2026-12-18 00:00:00",
         "Standard Class",
         "154963",
         "United States",
         "Chester",
         "Pennsylvania",
         "19013",
         "Chocolate",
         "Atlantic",
         "CHO-FUD-51000",
         "Wonka Bar - Fudge Mallows",
         "18.0",
         "5",
         "12.0",
         "6.0",
         "2005"
        ],
        [
         "39",
         "660",
         "US-2021-154963-CHO-TRI-54000",
         "2021-06-22 00:00:00",
         "2026-12-18 00:00:00",
         "Standard Class",
         "154963",
         "United States",
         "Chester",
         "Pennsylvania",
         "19013",
         "Chocolate",
         "Atlantic",
         "CHO-TRI-54000",
         "Wonka Bar - Triple Dazzle Caramel",
         "11.25",
         "3",
         "7.35",
         "3.9",
         "2005"
        ],
        [
         "40",
         "665",
         "US-2021-154963-CHO-MIL-31000",
         "2021-06-22 00:00:00",
         "2026-12-18 00:00:00",
         "Standard Class",
         "154963",
         "United States",
         "Chester",
         "Pennsylvania",
         "19013",
         "Chocolate",
         "Atlantic",
         "CHO-MIL-31000",
         "Wonka Bar - Milk Chocolate",
         "9.75",
         "3",
         "6.33",
         "3.42",
         "2005"
        ],
        [
         "41",
         "1760",
         "US-2021-143210-CHO-FUD-51000",
         "2021-12-01 00:00:00",
         "2027-05-26 00:00:00",
         "First Class",
         "143210",
         "United States",
         "Lowell",
         "Massachusetts",
         "01852",
         "Chocolate",
         "Atlantic",
         "CHO-FUD-51000",
         "Wonka Bar - Fudge Mallows",
         "7.2",
         "2",
         "4.8",
         "2.4",
         "2002"
        ],
        [
         "42",
         "1761",
         "US-2021-143210-CHO-MIL-31000",
         "2021-12-01 00:00:00",
         "2027-05-26 00:00:00",
         "First Class",
         "143210",
         "United States",
         "Lowell",
         "Massachusetts",
         "01852",
         "Chocolate",
         "Atlantic",
         "CHO-MIL-31000",
         "Wonka Bar - Milk Chocolate",
         "9.75",
         "3",
         "6.33",
         "3.42",
         "2002"
        ],
        [
         "43",
         "1766",
         "US-2021-143210-CHO-FUD-51000",
         "2021-12-01 00:00:00",
         "2027-05-26 00:00:00",
         "First Class",
         "143210",
         "United States",
         "Lowell",
         "Massachusetts",
         "01852",
         "Chocolate",
         "Atlantic",
         "CHO-FUD-51000",
         "Wonka Bar - Fudge Mallows",
         "7.2",
         "2",
         "4.8",
         "2.4",
         "2002"
        ],
        [
         "56",
         "120",
         "US-2021-152905-CHO-FUD-51000",
         "2021-02-18 00:00:00",
         "2026-08-17 00:00:00",
         "Standard Class",
         "152905",
         "United States",
         "Arlington",
         "Texas",
         "76017",
         "Chocolate",
         "Interior",
         "CHO-FUD-51000",
         "Wonka Bar - Fudge Mallows",
         "7.2",
         "2",
         "4.8",
         "2.4",
         "2006"
        ],
        [
         "57",
         "162",
         "US-2021-156587-CHO-NUT-13000",
         "2021-03-07 00:00:00",
         "2026-08-29 00:00:00",
         "First Class",
         "156587",
         "United States",
         "Seattle",
         "Washington",
         "98103",
         "Chocolate",
         "Pacific",
         "CHO-NUT-13000",
         "Wonka Bar - Nutty Crunch Surprise",
         "3.49",
         "1",
         "2.49",
         "1.0",
         "2001"
        ],
        [
         "58",
         "165",
         "US-2021-156587-CHO-FUD-51000",
         "2021-03-07 00:00:00",
         "2026-08-29 00:00:00",
         "First Class",
         "156587",
         "United States",
         "Seattle",
         "Washington",
         "98103",
         "Chocolate",
         "Pacific",
         "CHO-FUD-51000",
         "Wonka Bar - Fudge Mallows",
         "10.8",
         "3",
         "7.2",
         "3.6",
         "2001"
        ],
        [
         "59",
         "168",
         "US-2021-156587-CHO-FUD-51000",
         "2021-03-07 00:00:00",
         "2026-08-29 00:00:00",
         "First Class",
         "156587",
         "United States",
         "Seattle",
         "Washington",
         "98103",
         "Chocolate",
         "Pacific",
         "CHO-FUD-51000",
         "Wonka Bar - Fudge Mallows",
         "10.8",
         "3",
         "7.2",
         "3.6",
         "2001"
        ],
        [
         "80",
         "1922",
         "US-2021-103100-CHO-NUT-13000",
         "2021-12-20 00:00:00",
         "2027-06-15 00:00:00",
         "First Class",
         "103100",
         "United States",
         "Indianapolis",
         "Indiana",
         "46203",
         "Chocolate",
         "Interior",
         "CHO-NUT-13000",
         "Wonka Bar - Nutty Crunch Surprise",
         "10.47",
         "3",
         "7.47",
         "3.0",
         "2003"
        ],
        [
         "81",
         "1925",
         "US-2021-103100-CHO-FUD-51000",
         "2021-12-20 00:00:00",
         "2027-06-15 00:00:00",
         "First Class",
         "103100",
         "United States",
         "Indianapolis",
         "Indiana",
         "46203",
         "Chocolate",
         "Interior",
         "CHO-FUD-51000",
         "Wonka Bar - Fudge Mallows",
         "3.6",
         "1",
         "2.4",
         "1.2",
         "2003"
        ],
        [
         "100",
         "156",
         "US-2021-169061-CHO-TRI-54000",
         "2021-03-05 00:00:00",
         "2026-08-29 00:00:00",
         "Second Class",
         "169061",
         "United States",
         "Yonkers",
         "New York",
         "10701",
         "Chocolate",
         "Atlantic",
         "CHO-TRI-54000",
         "Wonka Bar - Triple Dazzle Caramel",
         "11.25",
         "3",
         "7.35",
         "3.9",
         "2003"
        ],
        [
         "101",
         "157",
         "US-2021-169061-CHO-NUT-13000",
         "2021-03-05 00:00:00",
         "2026-08-29 00:00:00",
         "Second Class",
         "169061",
         "United States",
         "Yonkers",
         "New York",
         "10701",
         "Chocolate",
         "Atlantic",
         "CHO-NUT-13000",
         "Wonka Bar - Nutty Crunch Surprise",
         "20.94",
         "6",
         "14.94",
         "6.0",
         "2003"
        ],
        [
         "102",
         "158",
         "US-2021-169061-CHO-TRI-54000",
         "2021-03-05 00:00:00",
         "2026-08-29 00:00:00",
         "Second Class",
         "169061",
         "United States",
         "Yonkers",
         "New York",
         "10701",
         "Chocolate",
         "Atlantic",
         "CHO-TRI-54000",
         "Wonka Bar - Triple Dazzle Caramel",
         "7.5",
         "2",
         "4.9",
         "2.6",
         "2003"
        ],
        [
         "103",
         "159",
         "US-2021-169061-CHO-NUT-13000",
         "2021-03-05 00:00:00",
         "2026-08-29 00:00:00",
         "Second Class",
         "169061",
         "United States",
         "Yonkers",
         "New York",
         "10701",
         "Chocolate",
         "Atlantic",
         "CHO-NUT-13000",
         "Wonka Bar - Nutty Crunch Surprise",
         "6.98",
         "2",
         "4.98",
         "2.0",
         "2003"
        ],
        [
         "104",
         "160",
         "US-2021-169061-CHO-TRI-54000",
         "2021-03-05 00:00:00",
         "2026-08-29 00:00:00",
         "Second Class",
         "169061",
         "United States",
         "Yonkers",
         "New York",
         "10701",
         "Chocolate",
         "Atlantic",
         "CHO-TRI-54000",
         "Wonka Bar - Triple Dazzle Caramel",
         "11.25",
         "3",
         "7.35",
         "3.9",
         "2003"
        ],
        [
         "112",
         "1592",
         "US-2021-139500-CHO-SCR-58000",
         "2021-11-16 00:00:00",
         "2027-05-13 00:00:00",
         "Standard Class",
         "139500",
         "United States",
         "Decatur",
         "Illinois",
         "62521",
         "Chocolate",
         "Interior",
         "CHO-SCR-58000",
         "Wonka Bar -Scrumdiddlyumptious",
         "7.2",
         "2",
         "5.0",
         "2.2",
         "2004"
        ],
        [
         "113",
         "1933",
         "CA-2021-126634-CHO-FUD-51000",
         "2021-12-20 00:00:00",
         "2027-06-14 00:00:00",
         "Second Class",
         "126634",
         "Canada",
         "Vancouver",
         "British Columbia",
         "V5K",
         "Chocolate",
         "Pacific",
         "CHO-FUD-51000",
         "Wonka Bar - Fudge Mallows",
         "18.0",
         "5",
         "12.0",
         "6.0",
         "2002"
        ],
        [
         "128",
         "796",
         "US-2021-122679-CHO-TRI-54000",
         "2021-07-22 00:00:00",
         "2027-01-18 00:00:00",
         "Standard Class",
         "122679",
         "United States",
         "Los Angeles",
         "California",
         "90008",
         "Chocolate",
         "Pacific",
         "CHO-TRI-54000",
         "Wonka Bar - Triple Dazzle Caramel",
         "22.5",
         "6",
         "14.7",
         "7.8",
         "2006"
        ],
        [
         "142",
         "1622",
         "US-2021-115336-CHO-NUT-13000",
         "2021-11-18 00:00:00",
         "2027-05-18 00:00:00",
         "Standard Class",
         "115336",
         "United States",
         "Chicago",
         "Illinois",
         "60623",
         "Chocolate",
         "Interior",
         "CHO-NUT-13000",
         "Wonka Bar - Nutty Crunch Surprise",
         "17.45",
         "5",
         "12.45",
         "5.0",
         "2007"
        ],
        [
         "150",
         "740",
         "US-2021-129924-CHO-FUD-51000",
         "2021-07-12 00:00:00",
         "2027-01-07 00:00:00",
         "Standard Class",
         "129924",
         "United States",
         "San Francisco",
         "California",
         "94122",
         "Chocolate",
         "Pacific",
         "CHO-FUD-51000",
         "Wonka Bar - Fudge Mallows",
         "10.8",
         "3",
         "7.2",
         "3.6",
         "2005"
        ],
        [
         "151",
         "743",
         "US-2021-129924-CHO-FUD-51000",
         "2021-07-12 00:00:00",
         "2027-01-07 00:00:00",
         "Standard Class",
         "129924",
         "United States",
         "San Francisco",
         "California",
         "94122",
         "Chocolate",
         "Pacific",
         "CHO-FUD-51000",
         "Wonka Bar - Fudge Mallows",
         "7.2",
         "2",
         "4.8",
         "2.4",
         "2005"
        ],
        [
         "155",
         "1433",
         "US-2021-167262-CHO-FUD-51000",
         "2021-10-31 00:00:00",
         "2027-04-26 00:00:00",
         "Second Class",
         "167262",
         "United States",
         "Avondale",
         "Arizona",
         "85323",
         "Chocolate",
         "Pacific",
         "CHO-FUD-51000",
         "Wonka Bar - Fudge Mallows",
         "28.8",
         "8",
         "19.2",
         "9.6",
         "2003"
        ],
        [
         "182",
         "1354",
         "US-2021-122021-CHO-SCR-58000",
         "2021-10-15 00:00:00",
         "2027-04-09 00:00:00",
         "First Class",
         "122021",
         "United States",
         "Parma",
         "Ohio",
         "44134",
         "Chocolate",
         "Atlantic",
         "CHO-SCR-58000",
         "Wonka Bar -Scrumdiddlyumptious",
         "7.2",
         "2",
         "5.0",
         "2.2",
         "2002"
        ],
        [
         "183",
         "1356",
         "US-2021-122021-CHO-FUD-51000",
         "2021-10-15 00:00:00",
         "2027-04-09 00:00:00",
         "First Class",
         "122021",
         "United States",
         "Parma",
         "Ohio",
         "44134",
         "Chocolate",
         "Atlantic",
         "CHO-FUD-51000",
         "Wonka Bar - Fudge Mallows",
         "7.2",
         "2",
         "4.8",
         "2.4",
         "2002"
        ],
        [
         "188",
         "1639",
         "US-2021-128062-CHO-SCR-58000",
         "2021-11-19 00:00:00",
         "2027-05-15 00:00:00",
         "Second Class",
         "128062",
         "United States",
         "Philadelphia",
         "Pennsylvania",
         "19134",
         "Chocolate",
         "Atlantic",
         "CHO-SCR-58000",
         "Wonka Bar -Scrumdiddlyumptious",
         "3.6",
         "1",
         "2.5",
         "1.1",
         "2003"
        ],
        [
         "189",
         "1965",
         "US-2021-152030-CHO-SCR-58000",
         "2021-12-26 00:00:00",
         "2027-06-20 00:00:00",
         "Second Class",
         "152030",
         "United States",
         "Houston",
         "Texas",
         "77041",
         "Chocolate",
         "Interior",
         "CHO-SCR-58000",
         "Wonka Bar -Scrumdiddlyumptious",
         "10.8",
         "3",
         "7.5",
         "3.3",
         "2002"
        ],
        [
         "216",
         "461",
         "US-2021-114181-CHO-TRI-54000",
         "2021-05-10 00:00:00",
         "2026-11-04 00:00:00",
         "Second Class",
         "114181",
         "United States",
         "Philadelphia",
         "Pennsylvania",
         "19134",
         "Chocolate",
         "Atlantic",
         "CHO-TRI-54000",
         "Wonka Bar - Triple Dazzle Caramel",
         "26.25",
         "7",
         "17.15",
         "9.1",
         "2004"
        ],
        [
         "217",
         "463",
         "US-2021-114181-CHO-SCR-58000",
         "2021-05-10 00:00:00",
         "2026-11-04 00:00:00",
         "Second Class",
         "114181",
         "United States",
         "Philadelphia",
         "Pennsylvania",
         "19134",
         "Chocolate",
         "Atlantic",
         "CHO-SCR-58000",
         "Wonka Bar -Scrumdiddlyumptious",
         "18.0",
         "5",
         "12.5",
         "5.5",
         "2004"
        ],
        [
         "218",
         "1089",
         "US-2021-103702-CHO-TRI-54000",
         "2021-09-12 00:00:00",
         "2027-03-10 00:00:00",
         "Standard Class",
         "103702",
         "United States",
         "Fairfield",
         "Ohio",
         "45014",
         "Chocolate",
         "Atlantic",
         "CHO-TRI-54000",
         "Wonka Bar - Triple Dazzle Caramel",
         "26.25",
         "7",
         "17.15",
         "9.1",
         "2005"
        ],
        [
         "223",
         "483",
         "US-2021-167164-CHO-FUD-51000",
         "2021-05-13 00:00:00",
         "2026-11-05 00:00:00",
         "Second Class",
         "167164",
         "United States",
         "West Jordan",
         "Utah",
         "84084",
         "Chocolate",
         "Pacific",
         "CHO-FUD-51000",
         "Wonka Bar - Fudge Mallows",
         "7.2",
         "2",
         "4.8",
         "2.4",
         "2002"
        ],
        [
         "224",
         "803",
         "US-2021-103058-CHO-TRI-54000",
         "2021-07-23 00:00:00",
         "2027-01-14 00:00:00",
         "First Class",
         "103058",
         "United States",
         "New York City",
         "New York",
         "10011",
         "Chocolate",
         "Atlantic",
         "CHO-TRI-54000",
         "Wonka Bar - Triple Dazzle Caramel",
         "7.5",
         "2",
         "4.9",
         "2.6",
         "2001"
        ],
        [
         "225",
         "1176",
         "CA-2021-153738-CHO-SCR-58000",
         "2021-09-20 00:00:00",
         "2027-03-15 00:00:00",
         "First Class",
         "153738",
         "Canada",
         "Toronto",
         "Ontario",
         "M2N",
         "Chocolate",
         "Atlantic",
         "CHO-SCR-58000",
         "Wonka Bar -Scrumdiddlyumptious",
         "21.6",
         "6",
         "15.0",
         "6.6",
         "2002"
        ],
        [
         "241",
         "403",
         "US-2021-147298-CHO-NUT-13000",
         "2021-04-26 00:00:00",
         "2026-10-24 00:00:00",
         "Standard Class",
         "147298",
         "United States",
         "Los Angeles",
         "California",
         "90049",
         "Chocolate",
         "Pacific",
         "CHO-NUT-13000",
         "Wonka Bar - Nutty Crunch Surprise",
         "10.47",
         "3",
         "7.47",
         "3.0",
         "2007"
        ],
        [
         "242",
         "405",
         "US-2021-147298-CHO-SCR-58000",
         "2021-04-26 00:00:00",
         "2026-10-24 00:00:00",
         "Standard Class",
         "147298",
         "United States",
         "Los Angeles",
         "California",
         "90049",
         "Chocolate",
         "Pacific",
         "CHO-SCR-58000",
         "Wonka Bar -Scrumdiddlyumptious",
         "21.6",
         "6",
         "15.0",
         "6.6",
         "2007"
        ],
        [
         "255",
         "381",
         "US-2021-158470-CHO-SCR-58000",
         "2021-04-19 00:00:00",
         "2026-10-14 00:00:00",
         "Second Class",
         "158470",
         "United States",
         "Arlington",
         "Virginia",
         "22204",
         "Chocolate",
         "Gulf",
         "CHO-SCR-58000",
         "Wonka Bar -Scrumdiddlyumptious",
         "10.8",
         "3",
         "7.5",
         "3.3",
         "2004"
        ],
        [
         "256",
         "382",
         "US-2021-158470-CHO-MIL-31000",
         "2021-04-19 00:00:00",
         "2026-10-14 00:00:00",
         "Second Class",
         "158470",
         "United States",
         "Arlington",
         "Virginia",
         "22204",
         "Chocolate",
         "Gulf",
         "CHO-MIL-31000",
         "Wonka Bar - Milk Chocolate",
         "35.75",
         "11",
         "23.21",
         "12.54",
         "2004"
        ],
        [
         "257",
         "1009",
         "US-2021-125171-CHO-SCR-58000",
         "2021-09-03 00:00:00",
         "2027-02-24 00:00:00",
         "Same Day",
         "125171",
         "United States",
         "New York City",
         "New York",
         "10009",
         "Chocolate",
         "Atlantic",
         "CHO-SCR-58000",
         "Wonka Bar -Scrumdiddlyumptious",
         "18.0",
         "5",
         "12.5",
         "5.5",
         "2000"
        ],
        [
         "284",
         "895",
         "US-2021-167850-CHO-MIL-31000",
         "2021-08-09 00:00:00",
         "2027-02-06 00:00:00",
         "Standard Class",
         "167850",
         "United States",
         "Saint Petersburg",
         "Florida",
         "33710",
         "Chocolate",
         "Gulf",
         "CHO-MIL-31000",
         "Wonka Bar - Milk Chocolate",
         "9.75",
         "3",
         "6.33",
         "3.42",
         "2007"
        ],
        [
         "285",
         "898",
         "US-2021-167850-CHO-FUD-51000",
         "2021-08-09 00:00:00",
         "2027-02-06 00:00:00",
         "Standard Class",
         "167850",
         "United States",
         "Saint Petersburg",
         "Florida",
         "33710",
         "Chocolate",
         "Gulf",
         "CHO-FUD-51000",
         "Wonka Bar - Fudge Mallows",
         "7.2",
         "2",
         "4.8",
         "2.4",
         "2007"
        ],
        [
         "286",
         "1007",
         "US-2021-158281-OTH-LIC-15000",
         "2021-09-02 00:00:00",
         "2027-02-28 00:00:00",
         "Standard Class",
         "158281",
         "United States",
         "Houston",
         "Texas",
         "77095",
         "Other",
         "Interior",
         "OTH-LIC-15000",
         "Lickable Wallpaper",
         "60.0",
         "3",
         "30.0",
         "30.0",
         "2005"
        ],
        [
         "308",
         "1139",
         "US-2021-158638-CHO-SCR-58000",
         "2021-09-17 00:00:00",
         "2027-03-14 00:00:00",
         "Standard Class",
         "158638",
         "United States",
         "Philadelphia",
         "Pennsylvania",
         "19120",
         "Chocolate",
         "Atlantic",
         "CHO-SCR-58000",
         "Wonka Bar -Scrumdiddlyumptious",
         "14.4",
         "4",
         "10.0",
         "4.4",
         "2004"
        ]
       ],
       "shape": {
        "columns": 19,
        "rows": 2051
       }
      },
      "text/html": [
       "<div>\n",
       "<style scoped>\n",
       "    .dataframe tbody tr th:only-of-type {\n",
       "        vertical-align: middle;\n",
       "    }\n",
       "\n",
       "    .dataframe tbody tr th {\n",
       "        vertical-align: top;\n",
       "    }\n",
       "\n",
       "    .dataframe thead th {\n",
       "        text-align: right;\n",
       "    }\n",
       "</style>\n",
       "<table border=\"1\" class=\"dataframe\">\n",
       "  <thead>\n",
       "    <tr style=\"text-align: right;\">\n",
       "      <th></th>\n",
       "      <th>Row ID</th>\n",
       "      <th>Order ID</th>\n",
       "      <th>Order Date</th>\n",
       "      <th>Ship Date</th>\n",
       "      <th>Ship Mode</th>\n",
       "      <th>Customer ID</th>\n",
       "      <th>Country/Region</th>\n",
       "      <th>City</th>\n",
       "      <th>State/Province</th>\n",
       "      <th>Postal Code</th>\n",
       "      <th>Division</th>\n",
       "      <th>Region</th>\n",
       "      <th>Product ID</th>\n",
       "      <th>Product Name</th>\n",
       "      <th>Sales</th>\n",
       "      <th>Units</th>\n",
       "      <th>Gross Profit</th>\n",
       "      <th>Cost</th>\n",
       "      <th>ship_time</th>\n",
       "    </tr>\n",
       "  </thead>\n",
       "  <tbody>\n",
       "    <tr>\n",
       "      <th>0</th>\n",
       "      <td>282</td>\n",
       "      <td>US-2021-128055-CHO-TRI-54000</td>\n",
       "      <td>2021-01-31</td>\n",
       "      <td>2026-09-26</td>\n",
       "      <td>Standard Class</td>\n",
       "      <td>128055</td>\n",
       "      <td>United States</td>\n",
       "      <td>San Francisco</td>\n",
       "      <td>California</td>\n",
       "      <td>94122</td>\n",
       "      <td>Chocolate</td>\n",
       "      <td>Pacific</td>\n",
       "      <td>CHO-TRI-54000</td>\n",
       "      <td>Wonka Bar - Triple Dazzle Caramel</td>\n",
       "      <td>7.50</td>\n",
       "      <td>2</td>\n",
       "      <td>4.90</td>\n",
       "      <td>2.60</td>\n",
       "      <td>2064</td>\n",
       "    </tr>\n",
       "    <tr>\n",
       "      <th>1</th>\n",
       "      <td>288</td>\n",
       "      <td>US-2021-128055-CHO-SCR-58000</td>\n",
       "      <td>2021-03-31</td>\n",
       "      <td>2026-09-26</td>\n",
       "      <td>Standard Class</td>\n",
       "      <td>128055</td>\n",
       "      <td>United States</td>\n",
       "      <td>San Francisco</td>\n",
       "      <td>California</td>\n",
       "      <td>94122</td>\n",
       "      <td>Chocolate</td>\n",
       "      <td>Pacific</td>\n",
       "      <td>CHO-SCR-58000</td>\n",
       "      <td>Wonka Bar -Scrumdiddlyumptious</td>\n",
       "      <td>7.20</td>\n",
       "      <td>2</td>\n",
       "      <td>5.00</td>\n",
       "      <td>2.20</td>\n",
       "      <td>2005</td>\n",
       "    </tr>\n",
       "    <tr>\n",
       "      <th>2</th>\n",
       "      <td>1132</td>\n",
       "      <td>US-2021-138100-CHO-FUD-51000</td>\n",
       "      <td>2021-09-15</td>\n",
       "      <td>2027-03-13</td>\n",
       "      <td>Standard Class</td>\n",
       "      <td>138100</td>\n",
       "      <td>United States</td>\n",
       "      <td>New York City</td>\n",
       "      <td>New York</td>\n",
       "      <td>10011</td>\n",
       "      <td>Chocolate</td>\n",
       "      <td>Atlantic</td>\n",
       "      <td>CHO-FUD-51000</td>\n",
       "      <td>Wonka Bar - Fudge Mallows</td>\n",
       "      <td>7.20</td>\n",
       "      <td>2</td>\n",
       "      <td>4.80</td>\n",
       "      <td>2.40</td>\n",
       "      <td>2005</td>\n",
       "    </tr>\n",
       "    <tr>\n",
       "      <th>3</th>\n",
       "      <td>1133</td>\n",
       "      <td>US-2021-138100-CHO-MIL-31000</td>\n",
       "      <td>2021-09-15</td>\n",
       "      <td>2027-03-13</td>\n",
       "      <td>Standard Class</td>\n",
       "      <td>138100</td>\n",
       "      <td>United States</td>\n",
       "      <td>New York City</td>\n",
       "      <td>New York</td>\n",
       "      <td>10011</td>\n",
       "      <td>Chocolate</td>\n",
       "      <td>Atlantic</td>\n",
       "      <td>CHO-MIL-31000</td>\n",
       "      <td>Wonka Bar - Milk Chocolate</td>\n",
       "      <td>9.75</td>\n",
       "      <td>3</td>\n",
       "      <td>6.33</td>\n",
       "      <td>3.42</td>\n",
       "      <td>2005</td>\n",
       "    </tr>\n",
       "    <tr>\n",
       "      <th>11</th>\n",
       "      <td>387</td>\n",
       "      <td>US-2021-158064-CHO-MIL-31000</td>\n",
       "      <td>2021-04-21</td>\n",
       "      <td>2026-10-16</td>\n",
       "      <td>Standard Class</td>\n",
       "      <td>158064</td>\n",
       "      <td>United States</td>\n",
       "      <td>Los Angeles</td>\n",
       "      <td>California</td>\n",
       "      <td>90008</td>\n",
       "      <td>Chocolate</td>\n",
       "      <td>Pacific</td>\n",
       "      <td>CHO-MIL-31000</td>\n",
       "      <td>Wonka Bar - Milk Chocolate</td>\n",
       "      <td>16.25</td>\n",
       "      <td>5</td>\n",
       "      <td>10.55</td>\n",
       "      <td>5.70</td>\n",
       "      <td>2004</td>\n",
       "    </tr>\n",
       "    <tr>\n",
       "      <th>...</th>\n",
       "      <td>...</td>\n",
       "      <td>...</td>\n",
       "      <td>...</td>\n",
       "      <td>...</td>\n",
       "      <td>...</td>\n",
       "      <td>...</td>\n",
       "      <td>...</td>\n",
       "      <td>...</td>\n",
       "      <td>...</td>\n",
       "      <td>...</td>\n",
       "      <td>...</td>\n",
       "      <td>...</td>\n",
       "      <td>...</td>\n",
       "      <td>...</td>\n",
       "      <td>...</td>\n",
       "      <td>...</td>\n",
       "      <td>...</td>\n",
       "      <td>...</td>\n",
       "      <td>...</td>\n",
       "    </tr>\n",
       "    <tr>\n",
       "      <th>10157</th>\n",
       "      <td>1342</td>\n",
       "      <td>US-2021-151995-CHO-MIL-31000</td>\n",
       "      <td>2021-10-13</td>\n",
       "      <td>2027-04-07</td>\n",
       "      <td>First Class</td>\n",
       "      <td>151995</td>\n",
       "      <td>United States</td>\n",
       "      <td>Edmonds</td>\n",
       "      <td>Washington</td>\n",
       "      <td>98026</td>\n",
       "      <td>Chocolate</td>\n",
       "      <td>Pacific</td>\n",
       "      <td>CHO-MIL-31000</td>\n",
       "      <td>Wonka Bar - Milk Chocolate</td>\n",
       "      <td>6.50</td>\n",
       "      <td>2</td>\n",
       "      <td>4.22</td>\n",
       "      <td>2.28</td>\n",
       "      <td>2002</td>\n",
       "    </tr>\n",
       "    <tr>\n",
       "      <th>10158</th>\n",
       "      <td>2001</td>\n",
       "      <td>US-2021-126802-CHO-SCR-58000</td>\n",
       "      <td>2021-12-29</td>\n",
       "      <td>2027-06-28</td>\n",
       "      <td>Standard Class</td>\n",
       "      <td>126802</td>\n",
       "      <td>United States</td>\n",
       "      <td>Chicago</td>\n",
       "      <td>Illinois</td>\n",
       "      <td>60610</td>\n",
       "      <td>Chocolate</td>\n",
       "      <td>Interior</td>\n",
       "      <td>CHO-SCR-58000</td>\n",
       "      <td>Wonka Bar -Scrumdiddlyumptious</td>\n",
       "      <td>10.80</td>\n",
       "      <td>3</td>\n",
       "      <td>7.50</td>\n",
       "      <td>3.30</td>\n",
       "      <td>2007</td>\n",
       "    </tr>\n",
       "    <tr>\n",
       "      <th>10185</th>\n",
       "      <td>981</td>\n",
       "      <td>US-2021-143336-CHO-TRI-54000</td>\n",
       "      <td>2021-08-27</td>\n",
       "      <td>2027-02-22</td>\n",
       "      <td>Second Class</td>\n",
       "      <td>143336</td>\n",
       "      <td>United States</td>\n",
       "      <td>San Francisco</td>\n",
       "      <td>California</td>\n",
       "      <td>94109</td>\n",
       "      <td>Chocolate</td>\n",
       "      <td>Pacific</td>\n",
       "      <td>CHO-TRI-54000</td>\n",
       "      <td>Wonka Bar - Triple Dazzle Caramel</td>\n",
       "      <td>7.50</td>\n",
       "      <td>2</td>\n",
       "      <td>4.90</td>\n",
       "      <td>2.60</td>\n",
       "      <td>2005</td>\n",
       "    </tr>\n",
       "    <tr>\n",
       "      <th>10186</th>\n",
       "      <td>982</td>\n",
       "      <td>US-2021-143336-CHO-TRI-54000</td>\n",
       "      <td>2021-08-27</td>\n",
       "      <td>2027-02-22</td>\n",
       "      <td>Second Class</td>\n",
       "      <td>143336</td>\n",
       "      <td>United States</td>\n",
       "      <td>San Francisco</td>\n",
       "      <td>California</td>\n",
       "      <td>94109</td>\n",
       "      <td>Chocolate</td>\n",
       "      <td>Pacific</td>\n",
       "      <td>CHO-TRI-54000</td>\n",
       "      <td>Wonka Bar - Triple Dazzle Caramel</td>\n",
       "      <td>15.00</td>\n",
       "      <td>4</td>\n",
       "      <td>9.80</td>\n",
       "      <td>5.20</td>\n",
       "      <td>2005</td>\n",
       "    </tr>\n",
       "    <tr>\n",
       "      <th>10187</th>\n",
       "      <td>985</td>\n",
       "      <td>US-2021-143336-CHO-SCR-58000</td>\n",
       "      <td>2021-08-27</td>\n",
       "      <td>2027-02-22</td>\n",
       "      <td>Second Class</td>\n",
       "      <td>143336</td>\n",
       "      <td>United States</td>\n",
       "      <td>San Francisco</td>\n",
       "      <td>California</td>\n",
       "      <td>94109</td>\n",
       "      <td>Chocolate</td>\n",
       "      <td>Pacific</td>\n",
       "      <td>CHO-SCR-58000</td>\n",
       "      <td>Wonka Bar -Scrumdiddlyumptious</td>\n",
       "      <td>10.80</td>\n",
       "      <td>3</td>\n",
       "      <td>7.50</td>\n",
       "      <td>3.30</td>\n",
       "      <td>2005</td>\n",
       "    </tr>\n",
       "  </tbody>\n",
       "</table>\n",
       "<p>2051 rows × 19 columns</p>\n",
       "</div>"
      ],
      "text/plain": [
       "       Row ID                      Order ID Order Date  Ship Date  \\\n",
       "0         282  US-2021-128055-CHO-TRI-54000 2021-01-31 2026-09-26   \n",
       "1         288  US-2021-128055-CHO-SCR-58000 2021-03-31 2026-09-26   \n",
       "2        1132  US-2021-138100-CHO-FUD-51000 2021-09-15 2027-03-13   \n",
       "3        1133  US-2021-138100-CHO-MIL-31000 2021-09-15 2027-03-13   \n",
       "11        387  US-2021-158064-CHO-MIL-31000 2021-04-21 2026-10-16   \n",
       "...       ...                           ...        ...        ...   \n",
       "10157    1342  US-2021-151995-CHO-MIL-31000 2021-10-13 2027-04-07   \n",
       "10158    2001  US-2021-126802-CHO-SCR-58000 2021-12-29 2027-06-28   \n",
       "10185     981  US-2021-143336-CHO-TRI-54000 2021-08-27 2027-02-22   \n",
       "10186     982  US-2021-143336-CHO-TRI-54000 2021-08-27 2027-02-22   \n",
       "10187     985  US-2021-143336-CHO-SCR-58000 2021-08-27 2027-02-22   \n",
       "\n",
       "            Ship Mode  Customer ID Country/Region           City  \\\n",
       "0      Standard Class       128055  United States  San Francisco   \n",
       "1      Standard Class       128055  United States  San Francisco   \n",
       "2      Standard Class       138100  United States  New York City   \n",
       "3      Standard Class       138100  United States  New York City   \n",
       "11     Standard Class       158064  United States    Los Angeles   \n",
       "...               ...          ...            ...            ...   \n",
       "10157     First Class       151995  United States        Edmonds   \n",
       "10158  Standard Class       126802  United States        Chicago   \n",
       "10185    Second Class       143336  United States  San Francisco   \n",
       "10186    Second Class       143336  United States  San Francisco   \n",
       "10187    Second Class       143336  United States  San Francisco   \n",
       "\n",
       "      State/Province Postal Code   Division    Region     Product ID  \\\n",
       "0         California       94122  Chocolate   Pacific  CHO-TRI-54000   \n",
       "1         California       94122  Chocolate   Pacific  CHO-SCR-58000   \n",
       "2           New York       10011  Chocolate  Atlantic  CHO-FUD-51000   \n",
       "3           New York       10011  Chocolate  Atlantic  CHO-MIL-31000   \n",
       "11        California       90008  Chocolate   Pacific  CHO-MIL-31000   \n",
       "...              ...         ...        ...       ...            ...   \n",
       "10157     Washington       98026  Chocolate   Pacific  CHO-MIL-31000   \n",
       "10158       Illinois       60610  Chocolate  Interior  CHO-SCR-58000   \n",
       "10185     California       94109  Chocolate   Pacific  CHO-TRI-54000   \n",
       "10186     California       94109  Chocolate   Pacific  CHO-TRI-54000   \n",
       "10187     California       94109  Chocolate   Pacific  CHO-SCR-58000   \n",
       "\n",
       "                            Product Name  Sales  Units  Gross Profit  Cost  \\\n",
       "0      Wonka Bar - Triple Dazzle Caramel   7.50      2          4.90  2.60   \n",
       "1         Wonka Bar -Scrumdiddlyumptious   7.20      2          5.00  2.20   \n",
       "2              Wonka Bar - Fudge Mallows   7.20      2          4.80  2.40   \n",
       "3             Wonka Bar - Milk Chocolate   9.75      3          6.33  3.42   \n",
       "11            Wonka Bar - Milk Chocolate  16.25      5         10.55  5.70   \n",
       "...                                  ...    ...    ...           ...   ...   \n",
       "10157         Wonka Bar - Milk Chocolate   6.50      2          4.22  2.28   \n",
       "10158     Wonka Bar -Scrumdiddlyumptious  10.80      3          7.50  3.30   \n",
       "10185  Wonka Bar - Triple Dazzle Caramel   7.50      2          4.90  2.60   \n",
       "10186  Wonka Bar - Triple Dazzle Caramel  15.00      4          9.80  5.20   \n",
       "10187     Wonka Bar -Scrumdiddlyumptious  10.80      3          7.50  3.30   \n",
       "\n",
       "       ship_time  \n",
       "0           2064  \n",
       "1           2005  \n",
       "2           2005  \n",
       "3           2005  \n",
       "11          2004  \n",
       "...          ...  \n",
       "10157       2002  \n",
       "10158       2007  \n",
       "10185       2005  \n",
       "10186       2005  \n",
       "10187       2005  \n",
       "\n",
       "[2051 rows x 19 columns]"
      ]
     },
     "execution_count": 118,
     "metadata": {},
     "output_type": "execute_result"
    }
   ],
   "source": [
    "# Filtering 2021 sales data\n",
    "candy_sales_df[candy_sales_df[\"Order Date\"].dt.year == 2021]"
   ]
  },
  {
   "cell_type": "code",
   "execution_count": 119,
   "id": "0c124eff",
   "metadata": {},
   "outputs": [
    {
     "data": {
      "image/png": "[encoded data removed]",
      "text/plain": [
       "<Figure size 640x480 with 1 Axes>"
      ]
     },
     "metadata": {},
     "output_type": "display_data"
    }
   ],
   "source": [
    "# subsetting dataframe using datetime index\n",
    "candy_sales_dt_idx = candy_sales_df.set_index(\"Order Date\").sort_index()\n",
    "sales_2021 = candy_sales_dt_idx.loc[\"2021\"] # date: yyyy-mm-dd, year-month: yyyy-mm, year: yyyy\n",
    "\n",
    "sales_2021[\"Sales\"].hist(range=[0, 50], bins=20)\n",
    "plt.show()"
   ]
  },
  {
   "cell_type": "code",
   "execution_count": 120,
   "id": "910beb4a",
   "metadata": {},
   "outputs": [
    {
     "data": {
      "image/png": "[encoded data removed]",
      "text/plain": [
       "<Figure size 640x480 with 1 Axes>"
      ]
     },
     "metadata": {},
     "output_type": "display_data"
    }
   ],
   "source": [
    "plt.scatter(x=top_5_product_sales[\"Cost\"], y=top_5_product_sales[\"Gross Profit\"])\n",
    "plt.show()"
   ]
  },
  {
   "cell_type": "code",
   "execution_count": 121,
   "id": "5b6f05e8",
   "metadata": {},
   "outputs": [
    {
     "data": {
      "application/vnd.microsoft.datawrangler.viewer.v0+json": {
       "columns": [
        {
         "name": "Order Date",
         "rawType": "datetime64[ns]",
         "type": "datetime"
        },
        {
         "name": "count",
         "rawType": "int64",
         "type": "integer"
        }
       ],
       "ref": "bfc2a0c6-ca3a-471f-86f8-0a62de5e8afc",
       "rows": [
        [
         "2021-01-03 00:00:00",
         "1"
        ],
        [
         "2021-01-04 00:00:00",
         "3"
        ],
        [
         "2021-01-05 00:00:00",
         "1"
        ],
        [
         "2021-01-06 00:00:00",
         "9"
        ],
        [
         "2021-01-07 00:00:00",
         "2"
        ],
        [
         "2021-01-09 00:00:00",
         "2"
        ],
        [
         "2021-01-10 00:00:00",
         "2"
        ],
        [
         "2021-01-11 00:00:00",
         "1"
        ],
        [
         "2021-01-13 00:00:00",
         "11"
        ],
        [
         "2021-01-14 00:00:00",
         "1"
        ],
        [
         "2021-01-15 00:00:00",
         "1"
        ],
        [
         "2021-01-16 00:00:00",
         "4"
        ],
        [
         "2021-01-18 00:00:00",
         "1"
        ],
        [
         "2021-01-19 00:00:00",
         "4"
        ],
        [
         "2021-01-20 00:00:00",
         "17"
        ],
        [
         "2021-01-21 00:00:00",
         "6"
        ],
        [
         "2021-01-23 00:00:00",
         "2"
        ],
        [
         "2021-01-26 00:00:00",
         "9"
        ],
        [
         "2021-01-27 00:00:00",
         "3"
        ],
        [
         "2021-01-28 00:00:00",
         "1"
        ],
        [
         "2021-01-30 00:00:00",
         "2"
        ],
        [
         "2021-01-31 00:00:00",
         "2"
        ],
        [
         "2021-02-01 00:00:00",
         "1"
        ],
        [
         "2021-02-02 00:00:00",
         "3"
        ],
        [
         "2021-02-03 00:00:00",
         "2"
        ],
        [
         "2021-02-04 00:00:00",
         "3"
        ],
        [
         "2021-02-06 00:00:00",
         "4"
        ],
        [
         "2021-02-07 00:00:00",
         "2"
        ],
        [
         "2021-02-08 00:00:00",
         "1"
        ],
        [
         "2021-02-11 00:00:00",
         "9"
        ],
        [
         "2021-02-12 00:00:00",
         "1"
        ],
        [
         "2021-02-14 00:00:00",
         "4"
        ],
        [
         "2021-02-15 00:00:00",
         "1"
        ],
        [
         "2021-02-16 00:00:00",
         "2"
        ],
        [
         "2021-02-17 00:00:00",
         "1"
        ],
        [
         "2021-02-18 00:00:00",
         "2"
        ],
        [
         "2021-02-20 00:00:00",
         "3"
        ],
        [
         "2021-02-21 00:00:00",
         "1"
        ],
        [
         "2021-02-22 00:00:00",
         "1"
        ],
        [
         "2021-02-23 00:00:00",
         "2"
        ],
        [
         "2021-02-24 00:00:00",
         "2"
        ],
        [
         "2021-02-27 00:00:00",
         "1"
        ],
        [
         "2021-03-01 00:00:00",
         "10"
        ],
        [
         "2021-03-02 00:00:00",
         "4"
        ],
        [
         "2021-03-03 00:00:00",
         "9"
        ],
        [
         "2021-03-04 00:00:00",
         "2"
        ],
        [
         "2021-03-05 00:00:00",
         "5"
        ],
        [
         "2021-03-07 00:00:00",
         "8"
        ],
        [
         "2021-03-10 00:00:00",
         "3"
        ],
        [
         "2021-03-11 00:00:00",
         "8"
        ]
       ],
       "shape": {
        "columns": 1,
        "rows": 1242
       }
      },
      "text/plain": [
       "Order Date\n",
       "2021-01-03     1\n",
       "2021-01-04     3\n",
       "2021-01-05     1\n",
       "2021-01-06     9\n",
       "2021-01-07     2\n",
       "              ..\n",
       "2024-12-26     4\n",
       "2024-12-27     2\n",
       "2024-12-28    19\n",
       "2024-12-29    15\n",
       "2024-12-30     8\n",
       "Name: count, Length: 1242, dtype: int64"
      ]
     },
     "execution_count": 121,
     "metadata": {},
     "output_type": "execute_result"
    }
   ],
   "source": [
    "candy_sales_df[\"Order Date\"].value_counts().sort_index()"
   ]
  },
  {
   "cell_type": "markdown",
   "id": "2406209e",
   "metadata": {},
   "source": [
    "## Load data"
   ]
  },
  {
   "cell_type": "code",
   "execution_count": 122,
   "id": "f3debaed",
   "metadata": {},
   "outputs": [],
   "source": [
    "factories_df = pd.read_csv(\"../datasets/Candy_Factories.csv\")\n",
    "products_df = pd.read_csv(\"../datasets/Candy_Products.csv\")\n",
    "targets_df = pd.read_csv(\"../datasets/Candy_Targets.csv\")\n",
    "uszips_df = pd.read_csv(\"../datasets/uszips.csv\")"
   ]
  },
  {
   "cell_type": "code",
   "execution_count": 123,
   "id": "56650489",
   "metadata": {},
   "outputs": [
    {
     "data": {
      "application/vnd.microsoft.datawrangler.viewer.v0+json": {
       "columns": [
        {
         "name": "index",
         "rawType": "int64",
         "type": "integer"
        },
        {
         "name": "zip",
         "rawType": "int64",
         "type": "integer"
        },
        {
         "name": "lat",
         "rawType": "float64",
         "type": "float"
        },
        {
         "name": "lng",
         "rawType": "float64",
         "type": "float"
        },
        {
         "name": "city",
         "rawType": "object",
         "type": "string"
        },
        {
         "name": "state_id",
         "rawType": "object",
         "type": "string"
        },
        {
         "name": "state_name",
         "rawType": "object",
         "type": "string"
        },
        {
         "name": "zcta",
         "rawType": "bool",
         "type": "boolean"
        },
        {
         "name": "parent_zcta",
         "rawType": "float64",
         "type": "float"
        },
        {
         "name": "population",
         "rawType": "float64",
         "type": "float"
        },
        {
         "name": "density",
         "rawType": "float64",
         "type": "float"
        },
        {
         "name": "county_fips",
         "rawType": "int64",
         "type": "integer"
        },
        {
         "name": "county_name",
         "rawType": "object",
         "type": "string"
        },
        {
         "name": "county_weights",
         "rawType": "object",
         "type": "string"
        },
        {
         "name": "county_names_all",
         "rawType": "object",
         "type": "string"
        },
        {
         "name": "county_fips_all",
         "rawType": "object",
         "type": "string"
        },
        {
         "name": "imprecise",
         "rawType": "bool",
         "type": "boolean"
        },
        {
         "name": "military",
         "rawType": "bool",
         "type": "boolean"
        },
        {
         "name": "timezone",
         "rawType": "object",
         "type": "string"
        }
       ],
       "ref": "c9498482-2cd5-483e-b2ec-2d949a353b97",
       "rows": [
        [
         "0",
         "601",
         "18.18027",
         "-66.75266",
         "Adjuntas",
         "PR",
         "Puerto Rico",
         "True",
         null,
         "16834.0",
         "100.9",
         "72001",
         "Adjuntas",
         "{\"72001\": 98.74, \"72141\": 1.26}",
         "Adjuntas|Utuado",
         "72001|72141",
         "False",
         "False",
         "America/Puerto_Rico"
        ],
        [
         "1",
         "602",
         "18.36075",
         "-67.17541",
         "Aguada",
         "PR",
         "Puerto Rico",
         "True",
         null,
         "37642.0",
         "479.2",
         "72003",
         "Aguada",
         "{\"72003\": 100}",
         "Aguada",
         "72003",
         "False",
         "False",
         "America/Puerto_Rico"
        ],
        [
         "2",
         "603",
         "18.45744",
         "-67.12225",
         "Aguadilla",
         "PR",
         "Puerto Rico",
         "True",
         null,
         "49075.0",
         "551.7",
         "72005",
         "Aguadilla",
         "{\"72005\": 99.76, \"72099\": 0.24}",
         "Aguadilla|Moca",
         "72005|72099",
         "False",
         "False",
         "America/Puerto_Rico"
        ],
        [
         "3",
         "606",
         "18.16585",
         "-66.93716",
         "Maricao",
         "PR",
         "Puerto Rico",
         "True",
         null,
         "5590.0",
         "48.7",
         "72093",
         "Maricao",
         "{\"72093\": 82.27, \"72153\": 11.66, \"72121\": 6.06}",
         "Maricao|Yauco|Sabana Grande",
         "72093|72153|72121",
         "False",
         "False",
         "America/Puerto_Rico"
        ],
        [
         "4",
         "610",
         "18.2911",
         "-67.12243",
         "Anasco",
         "PR",
         "Puerto Rico",
         "True",
         null,
         "25542.0",
         "265.7",
         "72011",
         "Añasco",
         "{\"72011\": 96.71, \"72099\": 2.82, \"72083\": 0.37, \"72003\": 0.1}",
         "Añasco|Moca|Las Marías|Aguada",
         "72011|72099|72083|72003",
         "False",
         "False",
         "America/Puerto_Rico"
        ]
       ],
       "shape": {
        "columns": 18,
        "rows": 5
       }
      },
      "text/html": [
       "<div>\n",
       "<style scoped>\n",
       "    .dataframe tbody tr th:only-of-type {\n",
       "        vertical-align: middle;\n",
       "    }\n",
       "\n",
       "    .dataframe tbody tr th {\n",
       "        vertical-align: top;\n",
       "    }\n",
       "\n",
       "    .dataframe thead th {\n",
       "        text-align: right;\n",
       "    }\n",
       "</style>\n",
       "<table border=\"1\" class=\"dataframe\">\n",
       "  <thead>\n",
       "    <tr style=\"text-align: right;\">\n",
       "      <th></th>\n",
       "      <th>zip</th>\n",
       "      <th>lat</th>\n",
       "      <th>lng</th>\n",
       "      <th>city</th>\n",
       "      <th>state_id</th>\n",
       "      <th>state_name</th>\n",
       "      <th>zcta</th>\n",
       "      <th>parent_zcta</th>\n",
       "      <th>population</th>\n",
       "      <th>density</th>\n",
       "      <th>county_fips</th>\n",
       "      <th>county_name</th>\n",
       "      <th>county_weights</th>\n",
       "      <th>county_names_all</th>\n",
       "      <th>county_fips_all</th>\n",
       "      <th>imprecise</th>\n",
       "      <th>military</th>\n",
       "      <th>timezone</th>\n",
       "    </tr>\n",
       "  </thead>\n",
       "  <tbody>\n",
       "    <tr>\n",
       "      <th>0</th>\n",
       "      <td>601</td>\n",
       "      <td>18.18027</td>\n",
       "      <td>-66.75266</td>\n",
       "      <td>Adjuntas</td>\n",
       "      <td>PR</td>\n",
       "      <td>Puerto Rico</td>\n",
       "      <td>True</td>\n",
       "      <td>NaN</td>\n",
       "      <td>16834.0</td>\n",
       "      <td>100.9</td>\n",
       "      <td>72001</td>\n",
       "      <td>Adjuntas</td>\n",
       "      <td>{\"72001\": 98.74, \"72141\": 1.26}</td>\n",
       "      <td>Adjuntas|Utuado</td>\n",
       "      <td>72001|72141</td>\n",
       "      <td>False</td>\n",
       "      <td>False</td>\n",
       "      <td>America/Puerto_Rico</td>\n",
       "    </tr>\n",
       "    <tr>\n",
       "      <th>1</th>\n",
       "      <td>602</td>\n",
       "      <td>18.36075</td>\n",
       "      <td>-67.17541</td>\n",
       "      <td>Aguada</td>\n",
       "      <td>PR</td>\n",
       "      <td>Puerto Rico</td>\n",
       "      <td>True</td>\n",
       "      <td>NaN</td>\n",
       "      <td>37642.0</td>\n",
       "      <td>479.2</td>\n",
       "      <td>72003</td>\n",
       "      <td>Aguada</td>\n",
       "      <td>{\"72003\": 100}</td>\n",
       "      <td>Aguada</td>\n",
       "      <td>72003</td>\n",
       "      <td>False</td>\n",
       "      <td>False</td>\n",
       "      <td>America/Puerto_Rico</td>\n",
       "    </tr>\n",
       "    <tr>\n",
       "      <th>2</th>\n",
       "      <td>603</td>\n",
       "      <td>18.45744</td>\n",
       "      <td>-67.12225</td>\n",
       "      <td>Aguadilla</td>\n",
       "      <td>PR</td>\n",
       "      <td>Puerto Rico</td>\n",
       "      <td>True</td>\n",
       "      <td>NaN</td>\n",
       "      <td>49075.0</td>\n",
       "      <td>551.7</td>\n",
       "      <td>72005</td>\n",
       "      <td>Aguadilla</td>\n",
       "      <td>{\"72005\": 99.76, \"72099\": 0.24}</td>\n",
       "      <td>Aguadilla|Moca</td>\n",
       "      <td>72005|72099</td>\n",
       "      <td>False</td>\n",
       "      <td>False</td>\n",
       "      <td>America/Puerto_Rico</td>\n",
       "    </tr>\n",
       "    <tr>\n",
       "      <th>3</th>\n",
       "      <td>606</td>\n",
       "      <td>18.16585</td>\n",
       "      <td>-66.93716</td>\n",
       "      <td>Maricao</td>\n",
       "      <td>PR</td>\n",
       "      <td>Puerto Rico</td>\n",
       "      <td>True</td>\n",
       "      <td>NaN</td>\n",
       "      <td>5590.0</td>\n",
       "      <td>48.7</td>\n",
       "      <td>72093</td>\n",
       "      <td>Maricao</td>\n",
       "      <td>{\"72093\": 82.27, \"72153\": 11.66, \"72121\": 6.06}</td>\n",
       "      <td>Maricao|Yauco|Sabana Grande</td>\n",
       "      <td>72093|72153|72121</td>\n",
       "      <td>False</td>\n",
       "      <td>False</td>\n",
       "      <td>America/Puerto_Rico</td>\n",
       "    </tr>\n",
       "    <tr>\n",
       "      <th>4</th>\n",
       "      <td>610</td>\n",
       "      <td>18.29110</td>\n",
       "      <td>-67.12243</td>\n",
       "      <td>Anasco</td>\n",
       "      <td>PR</td>\n",
       "      <td>Puerto Rico</td>\n",
       "      <td>True</td>\n",
       "      <td>NaN</td>\n",
       "      <td>25542.0</td>\n",
       "      <td>265.7</td>\n",
       "      <td>72011</td>\n",
       "      <td>Añasco</td>\n",
       "      <td>{\"72011\": 96.71, \"72099\": 2.82, \"72083\": 0.37,...</td>\n",
       "      <td>Añasco|Moca|Las Marías|Aguada</td>\n",
       "      <td>72011|72099|72083|72003</td>\n",
       "      <td>False</td>\n",
       "      <td>False</td>\n",
       "      <td>America/Puerto_Rico</td>\n",
       "    </tr>\n",
       "  </tbody>\n",
       "</table>\n",
       "</div>"
      ],
      "text/plain": [
       "   zip       lat       lng       city state_id   state_name  zcta  \\\n",
       "0  601  18.18027 -66.75266   Adjuntas       PR  Puerto Rico  True   \n",
       "1  602  18.36075 -67.17541     Aguada       PR  Puerto Rico  True   \n",
       "2  603  18.45744 -67.12225  Aguadilla       PR  Puerto Rico  True   \n",
       "3  606  18.16585 -66.93716    Maricao       PR  Puerto Rico  True   \n",
       "4  610  18.29110 -67.12243     Anasco       PR  Puerto Rico  True   \n",
       "\n",
       "   parent_zcta  population  density  county_fips county_name  \\\n",
       "0          NaN     16834.0    100.9        72001    Adjuntas   \n",
       "1          NaN     37642.0    479.2        72003      Aguada   \n",
       "2          NaN     49075.0    551.7        72005   Aguadilla   \n",
       "3          NaN      5590.0     48.7        72093     Maricao   \n",
       "4          NaN     25542.0    265.7        72011      Añasco   \n",
       "\n",
       "                                      county_weights  \\\n",
       "0                    {\"72001\": 98.74, \"72141\": 1.26}   \n",
       "1                                     {\"72003\": 100}   \n",
       "2                    {\"72005\": 99.76, \"72099\": 0.24}   \n",
       "3    {\"72093\": 82.27, \"72153\": 11.66, \"72121\": 6.06}   \n",
       "4  {\"72011\": 96.71, \"72099\": 2.82, \"72083\": 0.37,...   \n",
       "\n",
       "                county_names_all          county_fips_all  imprecise  \\\n",
       "0                Adjuntas|Utuado              72001|72141      False   \n",
       "1                         Aguada                    72003      False   \n",
       "2                 Aguadilla|Moca              72005|72099      False   \n",
       "3    Maricao|Yauco|Sabana Grande        72093|72153|72121      False   \n",
       "4  Añasco|Moca|Las Marías|Aguada  72011|72099|72083|72003      False   \n",
       "\n",
       "   military             timezone  \n",
       "0     False  America/Puerto_Rico  \n",
       "1     False  America/Puerto_Rico  \n",
       "2     False  America/Puerto_Rico  \n",
       "3     False  America/Puerto_Rico  \n",
       "4     False  America/Puerto_Rico  "
      ]
     },
     "execution_count": 123,
     "metadata": {},
     "output_type": "execute_result"
    }
   ],
   "source": [
    "uszips_df.head()"
   ]
  },
  {
   "cell_type": "code",
   "execution_count": 124,
   "id": "d6fcc6de",
   "metadata": {},
   "outputs": [
    {
     "name": "stdout",
     "output_type": "stream",
     "text": [
      "<class 'pandas.core.frame.DataFrame'>\n",
      "RangeIndex: 24 entries, 0 to 23\n",
      "Data columns (total 6 columns):\n",
      " #   Column        Non-Null Count  Dtype  \n",
      "---  ------        --------------  -----  \n",
      " 0   Division      23 non-null     object \n",
      " 1   Product Name  18 non-null     object \n",
      " 2   Factory       23 non-null     object \n",
      " 3   Product ID    23 non-null     object \n",
      " 4   Unit Price    21 non-null     object \n",
      " 5   Unit Cost     23 non-null     float64\n",
      "dtypes: float64(1), object(5)\n",
      "memory usage: 1.3+ KB\n"
     ]
    }
   ],
   "source": [
    "products_df.info()"
   ]
  },
  {
   "cell_type": "markdown",
   "id": "7f9a3df8",
   "metadata": {},
   "source": [
    "## Data cleaning"
   ]
  },
  {
   "cell_type": "code",
   "execution_count": 127,
   "id": "56700b8c",
   "metadata": {},
   "outputs": [
    {
     "data": {
      "application/vnd.microsoft.datawrangler.viewer.v0+json": {
       "columns": [
        {
         "name": "index",
         "rawType": "int64",
         "type": "integer"
        },
        {
         "name": "Division",
         "rawType": "object",
         "type": "unknown"
        },
        {
         "name": "Product Name",
         "rawType": "object",
         "type": "unknown"
        },
        {
         "name": "Factory",
         "rawType": "object",
         "type": "unknown"
        },
        {
         "name": "Product ID",
         "rawType": "object",
         "type": "unknown"
        },
        {
         "name": "Unit Price",
         "rawType": "object",
         "type": "unknown"
        },
        {
         "name": "Unit Cost",
         "rawType": "float64",
         "type": "float"
        }
       ],
       "ref": "ed128f2e-6a37-4e4c-b243-bee85b786d35",
       "rows": [
        [
         "0",
         "Chocolate",
         "Wonka Bar - Nutty Crunch Surprise",
         "Lot's O' Nuts",
         "CHO-NUT-13000",
         "$3.49",
         "1.0"
        ],
        [
         "1",
         "Chocolate",
         "Wonka Bar - Fudge Mallows",
         "Lot's O' Nuts",
         "CHO-FUD-51000",
         "$3.6",
         "1.2"
        ],
        [
         "2",
         "Chocolate",
         "Wonka Bar - Scrumdiddlyumptious",
         "Lot's O' Nuts",
         "CHO-SCR-58000",
         "$3.6",
         "1.1"
        ],
        [
         "3",
         "Chocolate",
         "Wonka Bar - Milk Chocolate",
         "Wicked Choccy's",
         "CHO-MIL-31000",
         "$3.25",
         "1.14"
        ],
        [
         "4",
         "Chocolate",
         "Wonka Bar - Triple Dazzle Caramel",
         "Wicked Choccy's",
         "CHO-TRI-54000",
         "$3.75",
         "1.3"
        ],
        [
         "5",
         "Sugar",
         "     Laffy Taffy    ",
         "Sugar Shack",
         "SUG-LAF-25000",
         "$1.99",
         "0.75"
        ],
        [
         "6",
         "Sugar",
         "SweeTARTS",
         "Sugar Shack",
         "SUG-SWE-91000",
         "$1.5",
         "0.8"
        ],
        [
         "7",
         "Sugar",
         "Nerds",
         "Sugar Shack",
         "SUG-NER-92000",
         "$1.5",
         "0.8"
        ],
        [
         "8",
         "Sugar",
         "Fun Dip",
         "Sugar Shack",
         "SUG-FUN-75000",
         "$1.5",
         "0.9"
        ],
        [
         "9",
         "Other",
         "Fizzy Lifting Drinks",
         "Sugar Shack",
         "OTH-FIZ-56000",
         "$3.75",
         "1.5"
        ],
        [
         "10",
         "Sugar",
         "     Everlasting Gobstopper     ",
         "Secret Factory",
         "SUG-EVE-47000",
         "$10",
         "2.0"
        ],
        [
         "11",
         "Sugar",
         "Hair Toffee",
         "The Other Factory",
         "SUG-HAI-55000",
         "$4.5",
         "1.0"
        ],
        [
         "12",
         "Other",
         "Lickable Wallpaper",
         "Secret Factory",
         "OTH-LIC-15000",
         "$20",
         "10.0"
        ],
        [
         "13",
         "Other",
         "Wonka Gum",
         "Secret Factory",
         "OTH-GUM-21000",
         "$1.25",
         "0.6"
        ],
        [
         "14",
         "Other",
         "Kazookles",
         "The Other Factory",
         "OTH-KAZ-38000",
         "$3.25",
         "3.0"
        ],
        [
         "15",
         "Other",
         null,
         "The Other Factory",
         "OTH-KAZ-38000",
         "15",
         "3.0"
        ],
        [
         "16",
         "Other",
         null,
         "Secret Factory",
         "OTH-KAZ-38000",
         null,
         "3.0"
        ],
        [
         "17",
         "Other",
         "''",
         "Secret Factory",
         "OTH-KAZ-38000",
         "12",
         "3.0"
        ],
        [
         "18",
         "Other",
         "''",
         "Secret Factory",
         "OTH-KAZ-38000",
         "15",
         "3.0"
        ],
        [
         "19",
         "Other",
         null,
         "The Other Factory",
         "OTH-KAZ-38000",
         null,
         "3.0"
        ],
        [
         "20",
         "Other",
         null,
         "The Other Factory",
         "OTH-KAZ-38000",
         "12",
         "3.0"
        ],
        [
         "21",
         "Other",
         null,
         "The Other Factory",
         "OTH-KAZ-38000",
         "12",
         "3.0"
        ],
        [
         "22",
         "Other",
         "''",
         "The Other Factory",
         "OTH-KAZ-38000",
         "12",
         "3.0"
        ],
        [
         "23",
         null,
         null,
         null,
         null,
         null,
         null
        ]
       ],
       "shape": {
        "columns": 6,
        "rows": 24
       }
      },
      "text/html": [
       "<div>\n",
       "<style scoped>\n",
       "    .dataframe tbody tr th:only-of-type {\n",
       "        vertical-align: middle;\n",
       "    }\n",
       "\n",
       "    .dataframe tbody tr th {\n",
       "        vertical-align: top;\n",
       "    }\n",
       "\n",
       "    .dataframe thead th {\n",
       "        text-align: right;\n",
       "    }\n",
       "</style>\n",
       "<table border=\"1\" class=\"dataframe\">\n",
       "  <thead>\n",
       "    <tr style=\"text-align: right;\">\n",
       "      <th></th>\n",
       "      <th>Division</th>\n",
       "      <th>Product Name</th>\n",
       "      <th>Factory</th>\n",
       "      <th>Product ID</th>\n",
       "      <th>Unit Price</th>\n",
       "      <th>Unit Cost</th>\n",
       "    </tr>\n",
       "  </thead>\n",
       "  <tbody>\n",
       "    <tr>\n",
       "      <th>0</th>\n",
       "      <td>Chocolate</td>\n",
       "      <td>Wonka Bar - Nutty Crunch Surprise</td>\n",
       "      <td>Lot's O' Nuts</td>\n",
       "      <td>CHO-NUT-13000</td>\n",
       "      <td>$3.49</td>\n",
       "      <td>1.00</td>\n",
       "    </tr>\n",
       "    <tr>\n",
       "      <th>1</th>\n",
       "      <td>Chocolate</td>\n",
       "      <td>Wonka Bar - Fudge Mallows</td>\n",
       "      <td>Lot's O' Nuts</td>\n",
       "      <td>CHO-FUD-51000</td>\n",
       "      <td>$3.6</td>\n",
       "      <td>1.20</td>\n",
       "    </tr>\n",
       "    <tr>\n",
       "      <th>2</th>\n",
       "      <td>Chocolate</td>\n",
       "      <td>Wonka Bar - Scrumdiddlyumptious</td>\n",
       "      <td>Lot's O' Nuts</td>\n",
       "      <td>CHO-SCR-58000</td>\n",
       "      <td>$3.6</td>\n",
       "      <td>1.10</td>\n",
       "    </tr>\n",
       "    <tr>\n",
       "      <th>3</th>\n",
       "      <td>Chocolate</td>\n",
       "      <td>Wonka Bar - Milk Chocolate</td>\n",
       "      <td>Wicked Choccy's</td>\n",
       "      <td>CHO-MIL-31000</td>\n",
       "      <td>$3.25</td>\n",
       "      <td>1.14</td>\n",
       "    </tr>\n",
       "    <tr>\n",
       "      <th>4</th>\n",
       "      <td>Chocolate</td>\n",
       "      <td>Wonka Bar - Triple Dazzle Caramel</td>\n",
       "      <td>Wicked Choccy's</td>\n",
       "      <td>CHO-TRI-54000</td>\n",
       "      <td>$3.75</td>\n",
       "      <td>1.30</td>\n",
       "    </tr>\n",
       "    <tr>\n",
       "      <th>5</th>\n",
       "      <td>Sugar</td>\n",
       "      <td>Laffy Taffy</td>\n",
       "      <td>Sugar Shack</td>\n",
       "      <td>SUG-LAF-25000</td>\n",
       "      <td>$1.99</td>\n",
       "      <td>0.75</td>\n",
       "    </tr>\n",
       "    <tr>\n",
       "      <th>6</th>\n",
       "      <td>Sugar</td>\n",
       "      <td>SweeTARTS</td>\n",
       "      <td>Sugar Shack</td>\n",
       "      <td>SUG-SWE-91000</td>\n",
       "      <td>$1.5</td>\n",
       "      <td>0.80</td>\n",
       "    </tr>\n",
       "    <tr>\n",
       "      <th>7</th>\n",
       "      <td>Sugar</td>\n",
       "      <td>Nerds</td>\n",
       "      <td>Sugar Shack</td>\n",
       "      <td>SUG-NER-92000</td>\n",
       "      <td>$1.5</td>\n",
       "      <td>0.80</td>\n",
       "    </tr>\n",
       "    <tr>\n",
       "      <th>8</th>\n",
       "      <td>Sugar</td>\n",
       "      <td>Fun Dip</td>\n",
       "      <td>Sugar Shack</td>\n",
       "      <td>SUG-FUN-75000</td>\n",
       "      <td>$1.5</td>\n",
       "      <td>0.90</td>\n",
       "    </tr>\n",
       "    <tr>\n",
       "      <th>9</th>\n",
       "      <td>Other</td>\n",
       "      <td>Fizzy Lifting Drinks</td>\n",
       "      <td>Sugar Shack</td>\n",
       "      <td>OTH-FIZ-56000</td>\n",
       "      <td>$3.75</td>\n",
       "      <td>1.50</td>\n",
       "    </tr>\n",
       "    <tr>\n",
       "      <th>10</th>\n",
       "      <td>Sugar</td>\n",
       "      <td>Everlasting Gobstopper</td>\n",
       "      <td>Secret Factory</td>\n",
       "      <td>SUG-EVE-47000</td>\n",
       "      <td>$10</td>\n",
       "      <td>2.00</td>\n",
       "    </tr>\n",
       "    <tr>\n",
       "      <th>11</th>\n",
       "      <td>Sugar</td>\n",
       "      <td>Hair Toffee</td>\n",
       "      <td>The Other Factory</td>\n",
       "      <td>SUG-HAI-55000</td>\n",
       "      <td>$4.5</td>\n",
       "      <td>1.00</td>\n",
       "    </tr>\n",
       "    <tr>\n",
       "      <th>12</th>\n",
       "      <td>Other</td>\n",
       "      <td>Lickable Wallpaper</td>\n",
       "      <td>Secret Factory</td>\n",
       "      <td>OTH-LIC-15000</td>\n",
       "      <td>$20</td>\n",
       "      <td>10.00</td>\n",
       "    </tr>\n",
       "    <tr>\n",
       "      <th>13</th>\n",
       "      <td>Other</td>\n",
       "      <td>Wonka Gum</td>\n",
       "      <td>Secret Factory</td>\n",
       "      <td>OTH-GUM-21000</td>\n",
       "      <td>$1.25</td>\n",
       "      <td>0.60</td>\n",
       "    </tr>\n",
       "    <tr>\n",
       "      <th>14</th>\n",
       "      <td>Other</td>\n",
       "      <td>Kazookles</td>\n",
       "      <td>The Other Factory</td>\n",
       "      <td>OTH-KAZ-38000</td>\n",
       "      <td>$3.25</td>\n",
       "      <td>3.00</td>\n",
       "    </tr>\n",
       "    <tr>\n",
       "      <th>15</th>\n",
       "      <td>Other</td>\n",
       "      <td>NaN</td>\n",
       "      <td>The Other Factory</td>\n",
       "      <td>OTH-KAZ-38000</td>\n",
       "      <td>15</td>\n",
       "      <td>3.00</td>\n",
       "    </tr>\n",
       "    <tr>\n",
       "      <th>16</th>\n",
       "      <td>Other</td>\n",
       "      <td>NaN</td>\n",
       "      <td>Secret Factory</td>\n",
       "      <td>OTH-KAZ-38000</td>\n",
       "      <td>NaN</td>\n",
       "      <td>3.00</td>\n",
       "    </tr>\n",
       "    <tr>\n",
       "      <th>17</th>\n",
       "      <td>Other</td>\n",
       "      <td>''</td>\n",
       "      <td>Secret Factory</td>\n",
       "      <td>OTH-KAZ-38000</td>\n",
       "      <td>12</td>\n",
       "      <td>3.00</td>\n",
       "    </tr>\n",
       "    <tr>\n",
       "      <th>18</th>\n",
       "      <td>Other</td>\n",
       "      <td>''</td>\n",
       "      <td>Secret Factory</td>\n",
       "      <td>OTH-KAZ-38000</td>\n",
       "      <td>15</td>\n",
       "      <td>3.00</td>\n",
       "    </tr>\n",
       "    <tr>\n",
       "      <th>19</th>\n",
       "      <td>Other</td>\n",
       "      <td>NaN</td>\n",
       "      <td>The Other Factory</td>\n",
       "      <td>OTH-KAZ-38000</td>\n",
       "      <td>NaN</td>\n",
       "      <td>3.00</td>\n",
       "    </tr>\n",
       "    <tr>\n",
       "      <th>20</th>\n",
       "      <td>Other</td>\n",
       "      <td>NaN</td>\n",
       "      <td>The Other Factory</td>\n",
       "      <td>OTH-KAZ-38000</td>\n",
       "      <td>12</td>\n",
       "      <td>3.00</td>\n",
       "    </tr>\n",
       "    <tr>\n",
       "      <th>21</th>\n",
       "      <td>Other</td>\n",
       "      <td>NaN</td>\n",
       "      <td>The Other Factory</td>\n",
       "      <td>OTH-KAZ-38000</td>\n",
       "      <td>12</td>\n",
       "      <td>3.00</td>\n",
       "    </tr>\n",
       "    <tr>\n",
       "      <th>22</th>\n",
       "      <td>Other</td>\n",
       "      <td>''</td>\n",
       "      <td>The Other Factory</td>\n",
       "      <td>OTH-KAZ-38000</td>\n",
       "      <td>12</td>\n",
       "      <td>3.00</td>\n",
       "    </tr>\n",
       "    <tr>\n",
       "      <th>23</th>\n",
       "      <td>NaN</td>\n",
       "      <td>NaN</td>\n",
       "      <td>NaN</td>\n",
       "      <td>NaN</td>\n",
       "      <td>NaN</td>\n",
       "      <td>NaN</td>\n",
       "    </tr>\n",
       "  </tbody>\n",
       "</table>\n",
       "</div>"
      ],
      "text/plain": [
       "     Division                       Product Name            Factory  \\\n",
       "0   Chocolate  Wonka Bar - Nutty Crunch Surprise      Lot's O' Nuts   \n",
       "1   Chocolate          Wonka Bar - Fudge Mallows      Lot's O' Nuts   \n",
       "2   Chocolate    Wonka Bar - Scrumdiddlyumptious      Lot's O' Nuts   \n",
       "3   Chocolate         Wonka Bar - Milk Chocolate    Wicked Choccy's   \n",
       "4   Chocolate  Wonka Bar - Triple Dazzle Caramel    Wicked Choccy's   \n",
       "5       Sugar                    Laffy Taffy            Sugar Shack   \n",
       "6       Sugar                          SweeTARTS        Sugar Shack   \n",
       "7       Sugar                              Nerds        Sugar Shack   \n",
       "8       Sugar                            Fun Dip        Sugar Shack   \n",
       "9       Other               Fizzy Lifting Drinks        Sugar Shack   \n",
       "10      Sugar        Everlasting Gobstopper          Secret Factory   \n",
       "11      Sugar                        Hair Toffee  The Other Factory   \n",
       "12      Other                 Lickable Wallpaper     Secret Factory   \n",
       "13      Other                          Wonka Gum     Secret Factory   \n",
       "14      Other                          Kazookles  The Other Factory   \n",
       "15      Other                                NaN  The Other Factory   \n",
       "16      Other                                NaN     Secret Factory   \n",
       "17      Other                                 ''     Secret Factory   \n",
       "18      Other                                 ''     Secret Factory   \n",
       "19      Other                                NaN  The Other Factory   \n",
       "20      Other                                NaN  The Other Factory   \n",
       "21      Other                                NaN  The Other Factory   \n",
       "22      Other                                 ''  The Other Factory   \n",
       "23        NaN                                NaN                NaN   \n",
       "\n",
       "       Product ID Unit Price  Unit Cost  \n",
       "0   CHO-NUT-13000      $3.49       1.00  \n",
       "1   CHO-FUD-51000       $3.6       1.20  \n",
       "2   CHO-SCR-58000       $3.6       1.10  \n",
       "3   CHO-MIL-31000      $3.25       1.14  \n",
       "4   CHO-TRI-54000      $3.75       1.30  \n",
       "5   SUG-LAF-25000      $1.99       0.75  \n",
       "6   SUG-SWE-91000       $1.5       0.80  \n",
       "7   SUG-NER-92000       $1.5       0.80  \n",
       "8   SUG-FUN-75000       $1.5       0.90  \n",
       "9   OTH-FIZ-56000      $3.75       1.50  \n",
       "10  SUG-EVE-47000        $10       2.00  \n",
       "11  SUG-HAI-55000       $4.5       1.00  \n",
       "12  OTH-LIC-15000        $20      10.00  \n",
       "13  OTH-GUM-21000      $1.25       0.60  \n",
       "14  OTH-KAZ-38000      $3.25       3.00  \n",
       "15  OTH-KAZ-38000         15       3.00  \n",
       "16  OTH-KAZ-38000        NaN       3.00  \n",
       "17  OTH-KAZ-38000         12       3.00  \n",
       "18  OTH-KAZ-38000         15       3.00  \n",
       "19  OTH-KAZ-38000        NaN       3.00  \n",
       "20  OTH-KAZ-38000         12       3.00  \n",
       "21  OTH-KAZ-38000         12       3.00  \n",
       "22  OTH-KAZ-38000         12       3.00  \n",
       "23            NaN        NaN        NaN  "
      ]
     },
     "execution_count": 127,
     "metadata": {},
     "output_type": "execute_result"
    }
   ],
   "source": [
    "products_df"
   ]
  },
  {
   "cell_type": "code",
   "execution_count": 143,
   "id": "c64475c8",
   "metadata": {},
   "outputs": [
    {
     "data": {
      "application/vnd.microsoft.datawrangler.viewer.v0+json": {
       "columns": [
        {
         "name": "index",
         "rawType": "int64",
         "type": "integer"
        },
        {
         "name": "Division",
         "rawType": "object",
         "type": "string"
        },
        {
         "name": "Product Name",
         "rawType": "object",
         "type": "string"
        },
        {
         "name": "Factory",
         "rawType": "object",
         "type": "string"
        },
        {
         "name": "Product ID",
         "rawType": "object",
         "type": "string"
        },
        {
         "name": "Unit Price",
         "rawType": "float64",
         "type": "float"
        },
        {
         "name": "Unit Cost",
         "rawType": "float64",
         "type": "float"
        }
       ],
       "ref": "b1762122-f750-4a20-89da-53b2f4ef23f2",
       "rows": [
        [
         "0",
         "Chocolate",
         "Wonka Bar - Nutty Crunch Surprise",
         "Lot's O' Nuts",
         "CHO-NUT-13000",
         "3.49",
         "1.0"
        ],
        [
         "1",
         "Chocolate",
         "Wonka Bar - Fudge Mallows",
         "Lot's O' Nuts",
         "CHO-FUD-51000",
         "3.6",
         "1.2"
        ],
        [
         "2",
         "Chocolate",
         "Wonka Bar - Scrumdiddlyumptious",
         "Lot's O' Nuts",
         "CHO-SCR-58000",
         "3.6",
         "1.1"
        ],
        [
         "3",
         "Chocolate",
         "Wonka Bar - Milk Chocolate",
         "Wicked Choccy's",
         "CHO-MIL-31000",
         "3.25",
         "1.14"
        ],
        [
         "4",
         "Chocolate",
         "Wonka Bar - Triple Dazzle Caramel",
         "Wicked Choccy's",
         "CHO-TRI-54000",
         "3.75",
         "1.3"
        ],
        [
         "5",
         "Sugar",
         "     Laffy Taffy    ",
         "Sugar Shack",
         "SUG-LAF-25000",
         "1.99",
         "0.75"
        ],
        [
         "6",
         "Sugar",
         "SweeTARTS",
         "Sugar Shack",
         "SUG-SWE-91000",
         "1.5",
         "0.8"
        ],
        [
         "7",
         "Sugar",
         "Nerds",
         "Sugar Shack",
         "SUG-NER-92000",
         "1.5",
         "0.8"
        ],
        [
         "8",
         "Sugar",
         "Fun Dip",
         "Sugar Shack",
         "SUG-FUN-75000",
         "1.5",
         "0.9"
        ],
        [
         "9",
         "Other",
         "Fizzy Lifting Drinks",
         "Sugar Shack",
         "OTH-FIZ-56000",
         "3.75",
         "1.5"
        ],
        [
         "10",
         "Sugar",
         "     Everlasting Gobstopper     ",
         "Secret Factory",
         "SUG-EVE-47000",
         "10.0",
         "2.0"
        ],
        [
         "11",
         "Sugar",
         "Hair Toffee",
         "The Other Factory",
         "SUG-HAI-55000",
         "4.5",
         "1.0"
        ],
        [
         "12",
         "Other",
         "Lickable Wallpaper",
         "Secret Factory",
         "OTH-LIC-15000",
         "20.0",
         "10.0"
        ],
        [
         "13",
         "Other",
         "Wonka Gum",
         "Secret Factory",
         "OTH-GUM-21000",
         "1.25",
         "0.6"
        ],
        [
         "14",
         "Other",
         "Kazookles",
         "The Other Factory",
         "OTH-KAZ-38000",
         "3.25",
         "3.0"
        ]
       ],
       "shape": {
        "columns": 6,
        "rows": 15
       }
      },
      "text/html": [
       "<div>\n",
       "<style scoped>\n",
       "    .dataframe tbody tr th:only-of-type {\n",
       "        vertical-align: middle;\n",
       "    }\n",
       "\n",
       "    .dataframe tbody tr th {\n",
       "        vertical-align: top;\n",
       "    }\n",
       "\n",
       "    .dataframe thead th {\n",
       "        text-align: right;\n",
       "    }\n",
       "</style>\n",
       "<table border=\"1\" class=\"dataframe\">\n",
       "  <thead>\n",
       "    <tr style=\"text-align: right;\">\n",
       "      <th></th>\n",
       "      <th>Division</th>\n",
       "      <th>Product Name</th>\n",
       "      <th>Factory</th>\n",
       "      <th>Product ID</th>\n",
       "      <th>Unit Price</th>\n",
       "      <th>Unit Cost</th>\n",
       "    </tr>\n",
       "  </thead>\n",
       "  <tbody>\n",
       "    <tr>\n",
       "      <th>0</th>\n",
       "      <td>Chocolate</td>\n",
       "      <td>Wonka Bar - Nutty Crunch Surprise</td>\n",
       "      <td>Lot's O' Nuts</td>\n",
       "      <td>CHO-NUT-13000</td>\n",
       "      <td>3.49</td>\n",
       "      <td>1.00</td>\n",
       "    </tr>\n",
       "    <tr>\n",
       "      <th>1</th>\n",
       "      <td>Chocolate</td>\n",
       "      <td>Wonka Bar - Fudge Mallows</td>\n",
       "      <td>Lot's O' Nuts</td>\n",
       "      <td>CHO-FUD-51000</td>\n",
       "      <td>3.60</td>\n",
       "      <td>1.20</td>\n",
       "    </tr>\n",
       "    <tr>\n",
       "      <th>2</th>\n",
       "      <td>Chocolate</td>\n",
       "      <td>Wonka Bar - Scrumdiddlyumptious</td>\n",
       "      <td>Lot's O' Nuts</td>\n",
       "      <td>CHO-SCR-58000</td>\n",
       "      <td>3.60</td>\n",
       "      <td>1.10</td>\n",
       "    </tr>\n",
       "    <tr>\n",
       "      <th>3</th>\n",
       "      <td>Chocolate</td>\n",
       "      <td>Wonka Bar - Milk Chocolate</td>\n",
       "      <td>Wicked Choccy's</td>\n",
       "      <td>CHO-MIL-31000</td>\n",
       "      <td>3.25</td>\n",
       "      <td>1.14</td>\n",
       "    </tr>\n",
       "    <tr>\n",
       "      <th>4</th>\n",
       "      <td>Chocolate</td>\n",
       "      <td>Wonka Bar - Triple Dazzle Caramel</td>\n",
       "      <td>Wicked Choccy's</td>\n",
       "      <td>CHO-TRI-54000</td>\n",
       "      <td>3.75</td>\n",
       "      <td>1.30</td>\n",
       "    </tr>\n",
       "    <tr>\n",
       "      <th>5</th>\n",
       "      <td>Sugar</td>\n",
       "      <td>Laffy Taffy</td>\n",
       "      <td>Sugar Shack</td>\n",
       "      <td>SUG-LAF-25000</td>\n",
       "      <td>1.99</td>\n",
       "      <td>0.75</td>\n",
       "    </tr>\n",
       "    <tr>\n",
       "      <th>6</th>\n",
       "      <td>Sugar</td>\n",
       "      <td>SweeTARTS</td>\n",
       "      <td>Sugar Shack</td>\n",
       "      <td>SUG-SWE-91000</td>\n",
       "      <td>1.50</td>\n",
       "      <td>0.80</td>\n",
       "    </tr>\n",
       "    <tr>\n",
       "      <th>7</th>\n",
       "      <td>Sugar</td>\n",
       "      <td>Nerds</td>\n",
       "      <td>Sugar Shack</td>\n",
       "      <td>SUG-NER-92000</td>\n",
       "      <td>1.50</td>\n",
       "      <td>0.80</td>\n",
       "    </tr>\n",
       "    <tr>\n",
       "      <th>8</th>\n",
       "      <td>Sugar</td>\n",
       "      <td>Fun Dip</td>\n",
       "      <td>Sugar Shack</td>\n",
       "      <td>SUG-FUN-75000</td>\n",
       "      <td>1.50</td>\n",
       "      <td>0.90</td>\n",
       "    </tr>\n",
       "    <tr>\n",
       "      <th>9</th>\n",
       "      <td>Other</td>\n",
       "      <td>Fizzy Lifting Drinks</td>\n",
       "      <td>Sugar Shack</td>\n",
       "      <td>OTH-FIZ-56000</td>\n",
       "      <td>3.75</td>\n",
       "      <td>1.50</td>\n",
       "    </tr>\n",
       "    <tr>\n",
       "      <th>10</th>\n",
       "      <td>Sugar</td>\n",
       "      <td>Everlasting Gobstopper</td>\n",
       "      <td>Secret Factory</td>\n",
       "      <td>SUG-EVE-47000</td>\n",
       "      <td>10.00</td>\n",
       "      <td>2.00</td>\n",
       "    </tr>\n",
       "    <tr>\n",
       "      <th>11</th>\n",
       "      <td>Sugar</td>\n",
       "      <td>Hair Toffee</td>\n",
       "      <td>The Other Factory</td>\n",
       "      <td>SUG-HAI-55000</td>\n",
       "      <td>4.50</td>\n",
       "      <td>1.00</td>\n",
       "    </tr>\n",
       "    <tr>\n",
       "      <th>12</th>\n",
       "      <td>Other</td>\n",
       "      <td>Lickable Wallpaper</td>\n",
       "      <td>Secret Factory</td>\n",
       "      <td>OTH-LIC-15000</td>\n",
       "      <td>20.00</td>\n",
       "      <td>10.00</td>\n",
       "    </tr>\n",
       "    <tr>\n",
       "      <th>13</th>\n",
       "      <td>Other</td>\n",
       "      <td>Wonka Gum</td>\n",
       "      <td>Secret Factory</td>\n",
       "      <td>OTH-GUM-21000</td>\n",
       "      <td>1.25</td>\n",
       "      <td>0.60</td>\n",
       "    </tr>\n",
       "    <tr>\n",
       "      <th>14</th>\n",
       "      <td>Other</td>\n",
       "      <td>Kazookles</td>\n",
       "      <td>The Other Factory</td>\n",
       "      <td>OTH-KAZ-38000</td>\n",
       "      <td>3.25</td>\n",
       "      <td>3.00</td>\n",
       "    </tr>\n",
       "  </tbody>\n",
       "</table>\n",
       "</div>"
      ],
      "text/plain": [
       "     Division                       Product Name            Factory  \\\n",
       "0   Chocolate  Wonka Bar - Nutty Crunch Surprise      Lot's O' Nuts   \n",
       "1   Chocolate          Wonka Bar - Fudge Mallows      Lot's O' Nuts   \n",
       "2   Chocolate    Wonka Bar - Scrumdiddlyumptious      Lot's O' Nuts   \n",
       "3   Chocolate         Wonka Bar - Milk Chocolate    Wicked Choccy's   \n",
       "4   Chocolate  Wonka Bar - Triple Dazzle Caramel    Wicked Choccy's   \n",
       "5       Sugar                    Laffy Taffy            Sugar Shack   \n",
       "6       Sugar                          SweeTARTS        Sugar Shack   \n",
       "7       Sugar                              Nerds        Sugar Shack   \n",
       "8       Sugar                            Fun Dip        Sugar Shack   \n",
       "9       Other               Fizzy Lifting Drinks        Sugar Shack   \n",
       "10      Sugar        Everlasting Gobstopper          Secret Factory   \n",
       "11      Sugar                        Hair Toffee  The Other Factory   \n",
       "12      Other                 Lickable Wallpaper     Secret Factory   \n",
       "13      Other                          Wonka Gum     Secret Factory   \n",
       "14      Other                          Kazookles  The Other Factory   \n",
       "\n",
       "       Product ID  Unit Price  Unit Cost  \n",
       "0   CHO-NUT-13000        3.49       1.00  \n",
       "1   CHO-FUD-51000        3.60       1.20  \n",
       "2   CHO-SCR-58000        3.60       1.10  \n",
       "3   CHO-MIL-31000        3.25       1.14  \n",
       "4   CHO-TRI-54000        3.75       1.30  \n",
       "5   SUG-LAF-25000        1.99       0.75  \n",
       "6   SUG-SWE-91000        1.50       0.80  \n",
       "7   SUG-NER-92000        1.50       0.80  \n",
       "8   SUG-FUN-75000        1.50       0.90  \n",
       "9   OTH-FIZ-56000        3.75       1.50  \n",
       "10  SUG-EVE-47000       10.00       2.00  \n",
       "11  SUG-HAI-55000        4.50       1.00  \n",
       "12  OTH-LIC-15000       20.00      10.00  \n",
       "13  OTH-GUM-21000        1.25       0.60  \n",
       "14  OTH-KAZ-38000        3.25       3.00  "
      ]
     },
     "execution_count": 143,
     "metadata": {},
     "output_type": "execute_result"
    }
   ],
   "source": [
    "products_df = products_df.drop_duplicates(\n",
    "    subset=[\"Division\", \"Factory\", \"Product ID\", \"Unit Price\", \"Unit Cost\"],\n",
    "    keep=\"last\"\n",
    ")\n",
    "\n",
    "products_df = products_df.replace(\"''\", np.nan).dropna(subset=[\"Product Name\"])\n",
    "\n",
    "products_df[\"Unit Price\"] = products_df[\"Unit Price\"].str.replace(\"$\", \"\").astype(float)\n",
    "\n",
    "products_df"
   ]
  }
 ],
 "metadata": {
  "kernelspec": {
   "display_name": "data-analysis",
   "language": "python",
   "name": "python3"
  },
  "language_info": {
   "codemirror_mode": {
    "name": "ipython",
    "version": 3
   },
   "file_extension": ".py",
   "mimetype": "text/x-python",
   "name": "python",
   "nbconvert_exporter": "python",
   "pygments_lexer": "ipython3",
   "version": "3.13.7"
  }
 },
 "nbformat": 4,
 "nbformat_minor": 5
}
